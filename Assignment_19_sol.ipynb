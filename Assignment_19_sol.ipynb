{
 "cells": [
  {
   "cell_type": "markdown",
   "id": "9271da2a",
   "metadata": {},
   "source": [
    "# Assignment_19_sol"
   ]
  },
  {
   "cell_type": "markdown",
   "id": "0bb8a62b",
   "metadata": {},
   "source": [
    "    1. Make a class called Thing with no contents and print it. Then, create an object called example from this class and also print it. Are the printed values the same or different?\n",
    "    \n",
    " \n",
    "\n",
    "\n",
    "\n",
    "    2. Create a new class called Thing2 and add the value 'abc' to the letters class attribute. Letters should be printed.\n",
    "    \n",
    " \n",
    "\n",
    "\n",
    "\n",
    "    3. Make yet another class called, of course, Thing3. This time, assign the value 'xyz' to an instance (object) attribute called letters. Print letters. Do you need to make an object from the class to do this?\n",
    "    \n",
    " \n",
    "\n",
    "\n",
    "    4. Create an Element class with the instance attributes name, symbol, and number. Create a class object with the values 'Hydrogen,' 'H,' and 1.\n",
    "    \n",
    " \n",
    "\n",
    "\n",
    "    5. Make a dictionary with these keys and values: 'name': 'Hydrogen', 'symbol': 'H', 'number': 1. Then, create an object called hydrogen from class Element using this dictionary.\n",
    "    \n",
    " \n",
    "\n",
    "\n",
    "    6. For the Element class, define a method called dump() that prints the values of the object’s attributes (name, symbol, and number). Create the hydrogen object from this new definition and use dump() to print its attributes.\n",
    "    \n",
    " \n",
    "\n",
    "\n",
    "    7. Call print(hydrogen). In the definition of Element, change the name of method dump to __str__, create a new hydrogen object, and call print(hydrogen) again.\n",
    "    \n",
    " \n",
    "\n",
    "\n",
    "    8. Modify Element to make the attributes name, symbol, and number private. Define a getter property for each to return its value.\n",
    "    \n",
    " \n",
    "\n",
    "\n",
    "    9. Define three classes: Bear, Rabbit, and Octothorpe. For each, define only one method: eats(). This should return 'berries' (Bear), 'clover' (Rabbit), or 'campers' (Octothorpe). Create one object from each and print what it eats.\n",
    "    \n",
    " \n",
    "\n",
    "\n",
    "    10. Define these classes: Laser, Claw, and SmartPhone. Each has only one method: does(). This returns 'disintegrate' (Laser), 'crush' (Claw), or 'ring' (SmartPhone). Then, define the class Robot that has one instance (object) of each of these. Define a does() method for the Robot that prints what its component objects do.\n",
    "    \n",
    "    \n",
    " \n"
   ]
  },
  {
   "cell_type": "code",
   "execution_count": 1,
   "id": "ddb927e5",
   "metadata": {},
   "outputs": [
    {
     "name": "stdout",
     "output_type": "stream",
     "text": [
      "<class '__main__.Thing'>\n",
      "<__main__.Thing object at 0x7f9d64243700>\n"
     ]
    }
   ],
   "source": [
    "#1\n",
    "class Thing:\n",
    "    pass\n",
    "\n",
    "example=Thing()\n",
    "\n",
    "print(Thing)\n",
    "print(example)"
   ]
  },
  {
   "cell_type": "code",
   "execution_count": 4,
   "id": "be6368ea",
   "metadata": {},
   "outputs": [
    {
     "name": "stdout",
     "output_type": "stream",
     "text": [
      "abc\n"
     ]
    }
   ],
   "source": [
    "#2\n",
    "class Things2:\n",
    "    letters=\"abc\"\n",
    "    \n",
    "    \n",
    "    \n",
    "print(Things2.letters)"
   ]
  },
  {
   "cell_type": "code",
   "execution_count": 26,
   "id": "ae80d06d",
   "metadata": {},
   "outputs": [
    {
     "name": "stdout",
     "output_type": "stream",
     "text": [
      "xyz\n"
     ]
    }
   ],
   "source": [
    "#3\n",
    "class Things3:\n",
    "    def __init__(self,letters):\n",
    "        self.letters=letters\n",
    "    def letter(self):\n",
    "        letter=self.letters\n",
    "        return letter \n",
    "\n",
    "print(Things3(\"xyz\").letter())"
   ]
  },
  {
   "cell_type": "code",
   "execution_count": 29,
   "id": "f055e1d4",
   "metadata": {},
   "outputs": [
    {
     "data": {
      "text/plain": [
       "('Hydrogen,', 'H,', 1)"
      ]
     },
     "execution_count": 29,
     "metadata": {},
     "output_type": "execute_result"
    }
   ],
   "source": [
    "#4\n",
    "class Element:\n",
    "    def __init__(self,name,symbol,number):\n",
    "        self.name=name\n",
    "        self.symbol=symbol\n",
    "        self.number=number\n",
    "    def Print(self):\n",
    "        return self.name,self.symbol,self.number\n",
    "    \n",
    "    \n",
    "obj=Element('Hydrogen,', 'H,',1)\n",
    "obj.Print()"
   ]
  },
  {
   "cell_type": "code",
   "execution_count": 30,
   "id": "bb10b85b",
   "metadata": {},
   "outputs": [
    {
     "data": {
      "text/plain": [
       "('Hydrogen', 'H', 1)"
      ]
     },
     "execution_count": 30,
     "metadata": {},
     "output_type": "execute_result"
    }
   ],
   "source": [
    "#5\n",
    "hashmap={'name': 'Hydrogen', 'symbol': 'H', 'number': 1}\n",
    "hydrogen=Element(**hashmap)\n",
    "hydrogen.Print()"
   ]
  },
  {
   "cell_type": "code",
   "execution_count": 33,
   "id": "2f8cf299",
   "metadata": {},
   "outputs": [
    {
     "data": {
      "text/plain": [
       "('Hydrogen,', 'H,', 1)"
      ]
     },
     "execution_count": 33,
     "metadata": {},
     "output_type": "execute_result"
    }
   ],
   "source": [
    "#6\n",
    "class Element:\n",
    "    def __init__(self,name,symbol,number):\n",
    "        self.name=name\n",
    "        self.symbol=symbol\n",
    "        self.number=number\n",
    "    def dump(self):\n",
    "        return self.name,self.symbol,self.number\n",
    "    \n",
    "    \n",
    "Hydrogen=Element('Hydrogen,', 'H,',1)\n",
    "Hydrogen.dump()"
   ]
  },
  {
   "cell_type": "code",
   "execution_count": 44,
   "id": "4db3bb61",
   "metadata": {},
   "outputs": [
    {
     "name": "stdout",
     "output_type": "stream",
     "text": [
      "Hydrogen, H, 1\n"
     ]
    }
   ],
   "source": [
    "#7\n",
    "class Element:\n",
    "    def __init__(self,name,symbol,number):\n",
    "        self.name=name\n",
    "        self.symbol=symbol\n",
    "        self.number=number\n",
    "    def __str__(self):\n",
    "        #because __str__ only returns string value\n",
    "        return '%s %s %s'%(self.name,self.symbol,self.number)\n",
    "    \n",
    "    \n",
    "Hydrogen=Element('Hydrogen,', 'H,',1)\n",
    "print(Hydrogen)"
   ]
  },
  {
   "cell_type": "code",
   "execution_count": 54,
   "id": "e7782874",
   "metadata": {},
   "outputs": [
    {
     "name": "stdout",
     "output_type": "stream",
     "text": [
      "Hydrogen,\n",
      "H,\n",
      "1\n",
      "Not Private\n"
     ]
    }
   ],
   "source": [
    "#8\n",
    "class Element:\n",
    "    def __init__(self,name,symbol,number,n):\n",
    "        self.__name=name\n",
    "        self.__symbol=symbol\n",
    "        self.__number=number\n",
    "        self.Not_Private=n\n",
    "        \n",
    "    def name(self):\n",
    "        return self.__name\n",
    "    def symbol(self):\n",
    "        return self.__symbol\n",
    "    def number(self):\n",
    "        return self.__number\n",
    "    \n",
    "Hydrogen=Element('Hydrogen,', 'H,',1,\"Not Private\")\n",
    "print(Hydrogen.name())\n",
    "print(Hydrogen.symbol())\n",
    "print(Hydrogen.number())\n",
    "print(Hydrogen.Not_Private)"
   ]
  },
  {
   "cell_type": "code",
   "execution_count": 64,
   "id": "310dc708",
   "metadata": {},
   "outputs": [
    {
     "name": "stdout",
     "output_type": "stream",
     "text": [
      "barries\n",
      "clover\n",
      "campers\n"
     ]
    }
   ],
   "source": [
    "#9\n",
    "class Bear:\n",
    "    \n",
    "    def eats():\n",
    "        return \"barries\"\n",
    "    \n",
    "class Rabbit:\n",
    "    \n",
    "    def eats():\n",
    "        return \"clover\"\n",
    "    \n",
    "class Octothorpe:\n",
    "    \n",
    "    def eats():\n",
    "        return \"campers\"\n",
    "    \n",
    "\n",
    "print(Bear.eats())\n",
    "print(Rabbit.eats())\n",
    "print(Octothorpe.eats())"
   ]
  },
  {
   "cell_type": "code",
   "execution_count": 71,
   "id": "3dc6d3d6",
   "metadata": {},
   "outputs": [
    {
     "data": {
      "text/plain": [
       "('disintegrate', 'crush', 'ring')"
      ]
     },
     "execution_count": 71,
     "metadata": {},
     "output_type": "execute_result"
    }
   ],
   "source": [
    "#10\n",
    "class Laser:\n",
    "    def does(self):\n",
    "        return 'disintegrate'\n",
    "\n",
    "class Claw:\n",
    "    def does(self):\n",
    "        return 'crush'\n",
    "\n",
    "class Smartphone:\n",
    "    def does(self):\n",
    "        return 'ring'\n",
    "\n",
    "class Robot:\n",
    "    def __init__(self):\n",
    "        self.Laser=Laser()\n",
    "        self.Claw=Claw()\n",
    "        self.Smartphone=Smartphone()\n",
    "    def does(self):\n",
    "        return self.Laser.does(),self.Claw.does(),self.Smartphone.does()\n",
    "    \n",
    "    \n",
    "obj=Robot()\n",
    "obj.does()"
   ]
  },
  {
   "cell_type": "code",
   "execution_count": null,
   "id": "ea68e552",
   "metadata": {},
   "outputs": [],
   "source": []
  }
 ],
 "metadata": {
  "kernelspec": {
   "display_name": "Python 3 (ipykernel)",
   "language": "python",
   "name": "python3"
  },
  "language_info": {
   "codemirror_mode": {
    "name": "ipython",
    "version": 3
   },
   "file_extension": ".py",
   "mimetype": "text/x-python",
   "name": "python",
   "nbconvert_exporter": "python",
   "pygments_lexer": "ipython3",
   "version": "3.9.7"
  }
 },
 "nbformat": 4,
 "nbformat_minor": 5
}
