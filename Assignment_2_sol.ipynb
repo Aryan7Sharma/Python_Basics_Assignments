{
 "cells": [
  {
   "cell_type": "markdown",
   "id": "00d91950",
   "metadata": {},
   "source": [
    "#Assignment_2_Solutions\n",
    "1.What are the two values of the Boolean data type? How do you write them?\n",
    "2. What are the three different types of Boolean operators?\n",
    "3. Make a list of each Boolean operator's truth tables (i.e. every possible combination of Boolean values for the operator and what it evaluate ).\n",
    "4. What are the values of the following expressions?\n",
    "(5 > 4) and (3 == 5)\n",
    "not (5 > 4)\n",
    "(5 > 4) or (3 == 5)\n",
    "not ((5 > 4) or (3 == 5))\n",
    "(True and True) and (True == False)\n",
    "(not False) or (not True)\n",
    "5. What are the six comparison operators?\n",
    "6. How do you tell the difference between the equal to and assignment operators?Describe a condition and when you would use one.\n",
    "7. Identify the three blocks in this code:\n",
    "spam = 0\n",
    "if spam == 10:\n",
    "print('eggs')\n",
    "if spam > 5:\n",
    "print('bacon')\n",
    "else:\n",
    "print('ham')\n",
    "print('spam')\n",
    "print('spam')\n",
    "8. Write code that prints Hello if 1 is stored in spam, prints Howdy if 2 is stored in spam, and prints Greetings! if anything else is stored in spam.\n",
    "\n",
    "\n",
    "9.If your programme is stuck in an endless loop, what keys you’ll press?\n",
    "10. How can you tell the difference between break and continue?\n",
    "11. In a for loop, what is the difference between range(10), range(0, 10), and range(0, 10, 1)?\n",
    "12. Write a short program that prints the numbers 1 to 10 using a for loop. Then write an equivalent program that prints the numbers 1 to 10 using a while loop.\n",
    "13. If you had a function named bacon() inside a module named spam, how would you call it after importing spam?"
   ]
  },
  {
   "cell_type": "markdown",
   "id": "0dc8974b",
   "metadata": {},
   "source": [
    "1.Solution--> True,False"
   ]
  },
  {
   "cell_type": "markdown",
   "id": "65d1e0e7",
   "metadata": {},
   "source": [
    "2.Solution--> And,Or,Not"
   ]
  },
  {
   "cell_type": "markdown",
   "id": "51b97de0",
   "metadata": {},
   "source": [
    "3.Solution--> Condition1 Boolean_operator condition2 = Result\n",
    "              True       or               False      = True\n",
    "              True       or               True       = True\n",
    "              False      or               True       = True\n",
    "              False      or               False      = False\n",
    "              \n",
    "              \n",
    "              True       and               True       = True\n",
    "              True       and               False      = False\n",
    "              False      and               True       = False\n",
    "              False      and               False      = False\n",
    "              \n",
    "              A     = Not A \n",
    "              True  = False\n",
    "              False = True\n",
    "              when we use Not operator then its return True if our given condition is False and return False if our givin condition is True."
   ]
  },
  {
   "cell_type": "markdown",
   "id": "db5eeb1a",
   "metadata": {},
   "source": [
    "4.Solution--> 4. What are the values of the following expressions?\n",
    "(5 > 4) and (3 == 5)                --True\n",
    "not (5 > 4)                         --False\n",
    "(5 > 4) or (3 == 5)                 --True\n",
    "not ((5 > 4) or (3 == 5))           --False\n",
    "(True and True) and (True == False) --False\n",
    "(not False) or (not True)           --True"
   ]
  },
  {
   "cell_type": "markdown",
   "id": "7cc6a318",
   "metadata": {},
   "source": [
    "5.Solution--> The six comparison operators are--\n",
    "less_than(<), less_than_equal_to(<=), greater_than(>), greater_than_equal_to(>=), equal_to_equal(==), not_equalto(!=)"
   ]
  },
  {
   "cell_type": "markdown",
   "id": "c92e0548",
   "metadata": {},
   "source": [
    "6.Solution--> Assignment_operator(=), equalto_operator(==)\n",
    "Assignment operator is used for assign some value to the variable for example (a=10)\n",
    "equal_to operator is used for doing the comparison between the values for example a=10,b=10(a==b) or (10==10)"
   ]
  },
  {
   "cell_type": "markdown",
   "id": "f436799a",
   "metadata": {},
   "source": [
    "7.Solution--> We have a three blocks (1-if, 2-if, 3-else) and this program print else block because when it goes to 1 and 2 block condition is failed so its print the else block.\n",
    "else:\n",
    "print('ham')\n",
    "print('spam')\n",
    "print('spam')"
   ]
  },
  {
   "cell_type": "code",
   "execution_count": 5,
   "id": "6a8e53f0",
   "metadata": {},
   "outputs": [
    {
     "name": "stdout",
     "output_type": "stream",
     "text": [
      "0\n",
      "Greetings!\n"
     ]
    }
   ],
   "source": [
    "#8.Solution--> \n",
    "spam=int(input())\n",
    "if spam==1:print(\"Hello\")\n",
    "elif spam==2:print(\"Howdy\")\n",
    "else:print(\"Greetings!\")"
   ]
  },
  {
   "cell_type": "markdown",
   "id": "4e2af43b",
   "metadata": {},
   "source": [
    "9.Solution--> ctrl+c"
   ]
  },
  {
   "cell_type": "code",
   "execution_count": 9,
   "id": "4cff09e2",
   "metadata": {},
   "outputs": [
    {
     "name": "stdout",
     "output_type": "stream",
     "text": [
      "1\n",
      "2\n",
      "3\n",
      "1\n",
      "2\n",
      "4\n",
      "5\n"
     ]
    }
   ],
   "source": [
    "#10.Solution--> break statement is used for breaking the loop or exit from the loop even if the loop is not terminated or loop condition is not to be False yet, on the other hand the continue statement is used for  begins the next iteration of the loop.\n",
    "i=1\n",
    "while i<5:\n",
    "    print(i)\n",
    "    if i==3:break\n",
    "    i+=1\n",
    "j=0\n",
    "while j<5:\n",
    "    j+=1\n",
    "    if j==3:continue\n",
    "    print(j)\n",
    "      "
   ]
  },
  {
   "cell_type": "markdown",
   "id": "64f66792",
   "metadata": {},
   "source": [
    "11.Solution--> when we give range(10) it's by default start from 0 goes 0 to end so the end is here are already given which is (10)\n",
    "\n",
    "but when we give range (0,10) so 0 is here starting point and the 10 is here ending point its not take 0 here by default we can also give(1,10),(5,10) etc. (starting_point,ending_point)\n",
    "\n",
    "range(0,10,1) -- (starting_point,ending_point,increment by step parameter) here the third point define the increment parameter it depends how much increment we want every time.\n",
    "\n"
   ]
  },
  {
   "cell_type": "code",
   "execution_count": 7,
   "id": "7b14de90",
   "metadata": {},
   "outputs": [
    {
     "name": "stdout",
     "output_type": "stream",
     "text": [
      "1\n",
      "2\n",
      "3\n",
      "4\n",
      "5\n",
      "6\n",
      "7\n",
      "8\n",
      "9\n",
      "10\n",
      "10\n",
      "10\n",
      "10\n",
      "10\n",
      "10\n",
      "10\n",
      "10\n",
      "10\n",
      "10\n",
      "10\n"
     ]
    }
   ],
   "source": [
    "#12.Solution-->\n",
    "for i in range(1,11):print(i)\n",
    "    \n",
    "j=1\n",
    "while j<=10:\n",
    "    print(i)\n",
    "    j+=1"
   ]
  },
  {
   "cell_type": "markdown",
   "id": "8ec3b81e",
   "metadata": {},
   "source": [
    "13.Solution--> spam.bacon()"
   ]
  }
 ],
 "metadata": {
  "kernelspec": {
   "display_name": "Python 3 (ipykernel)",
   "language": "python",
   "name": "python3"
  },
  "language_info": {
   "codemirror_mode": {
    "name": "ipython",
    "version": 3
   },
   "file_extension": ".py",
   "mimetype": "text/x-python",
   "name": "python",
   "nbconvert_exporter": "python",
   "pygments_lexer": "ipython3",
   "version": "3.9.7"
  }
 },
 "nbformat": 4,
 "nbformat_minor": 5
}
