{
 "cells": [
  {
   "cell_type": "markdown",
   "id": "c1b7934c",
   "metadata": {},
   "source": [
    "# Assignment8 Solutions"
   ]
  },
  {
   "cell_type": "markdown",
   "id": "226a0092",
   "metadata": {},
   "source": [
    "    1. Is the Python Standard Library included with PyInputPlus?\n",
    "    2. Why is PyInputPlus commonly imported with import pyinputplus as pypi?\n",
    "    3. How do you distinguish between inputInt() and inputFloat()?\n",
    "    4. Using PyInputPlus, how do you ensure that the user enters a whole number between 0 and 99?\n",
    "    5. What is transferred to the keyword arguments allowRegexes and blockRegexes?\n",
    "    6. If a blank input is entered three times, what does inputStr(limit=3) do?\n",
    "    7. If blank input is entered three times, what does inputStr(limit=3, default='hello') do?"
   ]
  },
  {
   "cell_type": "markdown",
   "id": "23cb43ed",
   "metadata": {},
   "source": [
    "    sol(1)--> No Python Standard Library didn't have the PyInputPlus so we need to install it separately .\n",
    "              !pip install pyinputplus "
   ]
  },
  {
   "cell_type": "markdown",
   "id": "be6d9d04",
   "metadata": {},
   "source": [
    "    sol(2)--> pypi is just a alias of PyInputPlus so when we want to call a PyInputPlus function we call it through its alias .pypi and we can use any name as alias for example (import pyinputplus as pp)."
   ]
  },
  {
   "cell_type": "markdown",
   "id": "ecce02d5",
   "metadata": {},
   "source": [
    "    sol(3)--> inputInt() Accepts an integer value, and returns int value, and inputFloat() Accepts integer or floating point value and returns float value"
   ]
  },
  {
   "cell_type": "markdown",
   "id": "f36e630d",
   "metadata": {},
   "source": [
    "    sol(4)--> pyip.inputInt(min = 0, max =99)"
   ]
  },
  {
   "cell_type": "markdown",
   "id": "7d1ca1df",
   "metadata": {},
   "source": [
    "    sol(5)--> The allowRegexes and blockRegexes keyword arguments take a list of regular expression strings to determine what the PyInputPlus function will accept or reject as valid input"
   ]
  },
  {
   "cell_type": "markdown",
   "id": "73921a86",
   "metadata": {},
   "source": [
    "    sol(6)-->  It gives an RetryLimitException exception"
   ]
  },
  {
   "cell_type": "markdown",
   "id": "2bb2fc56",
   "metadata": {},
   "source": [
    "    sol(7)--> This function returns the default value ('hello') instead of giving an error"
   ]
  },
  {
   "cell_type": "code",
   "execution_count": 1,
   "id": "dbc4366d",
   "metadata": {},
   "outputs": [
    {
     "name": "stdout",
     "output_type": "stream",
     "text": [
      "Collecting pyinputplus\n",
      "  Downloading PyInputPlus-0.2.12.tar.gz (20 kB)\n",
      "  Installing build dependencies ... \u001b[?25ldone\n",
      "\u001b[?25h  Getting requirements to build wheel ... \u001b[?25ldone\n",
      "\u001b[?25h    Preparing wheel metadata ... \u001b[?25ldone\n",
      "\u001b[?25hCollecting stdiomask>=0.0.3\n",
      "  Downloading stdiomask-0.0.6.tar.gz (3.6 kB)\n",
      "  Installing build dependencies ... \u001b[?25ldone\n",
      "\u001b[?25h  Getting requirements to build wheel ... \u001b[?25ldone\n",
      "\u001b[?25h    Preparing wheel metadata ... \u001b[?25ldone\n",
      "\u001b[?25hCollecting pysimplevalidate>=0.2.7\n",
      "  Downloading PySimpleValidate-0.2.12.tar.gz (22 kB)\n",
      "  Installing build dependencies ... \u001b[?25ldone\n",
      "\u001b[?25h  Getting requirements to build wheel ... \u001b[?25ldone\n",
      "\u001b[?25h    Preparing wheel metadata ... \u001b[?25ldone\n",
      "\u001b[?25hBuilding wheels for collected packages: pyinputplus, pysimplevalidate, stdiomask\n",
      "  Building wheel for pyinputplus (PEP 517) ... \u001b[?25ldone\n",
      "\u001b[?25h  Created wheel for pyinputplus: filename=PyInputPlus-0.2.12-py3-none-any.whl size=11297 sha256=be1ba7ffb736e543b1708fe0684e03615bb393b7f22a9712493cfbefa24cba13\n",
      "  Stored in directory: /home/aryan/.cache/pip/wheels/b4/6e/2f/8a852732646cabec36c3fe8fc060ec5bea1c1be711432c47f7\n",
      "  Building wheel for pysimplevalidate (PEP 517) ... \u001b[?25ldone\n",
      "\u001b[?25h  Created wheel for pysimplevalidate: filename=PySimpleValidate-0.2.12-py3-none-any.whl size=16175 sha256=f3e6154c4b0381c3b0c8f9bac5c556cf4c0399c966af77da90417dbe5a2c04ac\n",
      "  Stored in directory: /home/aryan/.cache/pip/wheels/b1/44/4a/043a4f4c4512c7cdfb0c2b8408b18b0de5fd45cac57f5dfa02\n",
      "  Building wheel for stdiomask (PEP 517) ... \u001b[?25ldone\n",
      "\u001b[?25h  Created wheel for stdiomask: filename=stdiomask-0.0.6-py3-none-any.whl size=3306 sha256=fc5bbbd82ec9c0d1e6f154e060e0eaa01808bb0dc34335adc93b84964d8b33a5\n",
      "  Stored in directory: /home/aryan/.cache/pip/wheels/1d/aa/47/f41f117d22c5de82e95d9342f44da578c80610739a2d5ebec4\n",
      "Successfully built pyinputplus pysimplevalidate stdiomask\n",
      "Installing collected packages: stdiomask, pysimplevalidate, pyinputplus\n",
      "Successfully installed pyinputplus-0.2.12 pysimplevalidate-0.2.12 stdiomask-0.0.6\n"
     ]
    }
   ],
   "source": [
    "!pip install pyinputplus"
   ]
  },
  {
   "cell_type": "code",
   "execution_count": 2,
   "id": "f9954d85",
   "metadata": {},
   "outputs": [],
   "source": [
    "import pyinputplus as pp"
   ]
  },
  {
   "cell_type": "code",
   "execution_count": 4,
   "id": "3dffab10",
   "metadata": {},
   "outputs": [
    {
     "name": "stdout",
     "output_type": "stream",
     "text": [
      "333\n",
      "Number must be at maximum 99.\n",
      "100\n",
      "Number must be at maximum 99.\n",
      "-1\n",
      "Number must be at minimum 0.\n",
      "2\n"
     ]
    },
    {
     "data": {
      "text/plain": [
       "2"
      ]
     },
     "execution_count": 4,
     "metadata": {},
     "output_type": "execute_result"
    }
   ],
   "source": [
    "pp.inputInt(min=0,max=99)"
   ]
  },
  {
   "cell_type": "code",
   "execution_count": 13,
   "id": "dd920e91",
   "metadata": {},
   "outputs": [
    {
     "name": "stdout",
     "output_type": "stream",
     "text": [
      "\n",
      "Blank values are not allowed.\n",
      "\n",
      "Blank values are not allowed.\n",
      "\n",
      "Blank values are not allowed.\n"
     ]
    }
   ],
   "source": [
    "n=pp.inputStr(limit=3, default='hello')"
   ]
  },
  {
   "cell_type": "code",
   "execution_count": 14,
   "id": "206df857",
   "metadata": {},
   "outputs": [
    {
     "data": {
      "text/plain": [
       "'hello'"
      ]
     },
     "execution_count": 14,
     "metadata": {},
     "output_type": "execute_result"
    }
   ],
   "source": [
    "n"
   ]
  },
  {
   "cell_type": "code",
   "execution_count": null,
   "id": "0d679ea0",
   "metadata": {},
   "outputs": [],
   "source": []
  }
 ],
 "metadata": {
  "kernelspec": {
   "display_name": "Python 3 (ipykernel)",
   "language": "python",
   "name": "python3"
  },
  "language_info": {
   "codemirror_mode": {
    "name": "ipython",
    "version": 3
   },
   "file_extension": ".py",
   "mimetype": "text/x-python",
   "name": "python",
   "nbconvert_exporter": "python",
   "pygments_lexer": "ipython3",
   "version": "3.9.7"
  }
 },
 "nbformat": 4,
 "nbformat_minor": 5
}
