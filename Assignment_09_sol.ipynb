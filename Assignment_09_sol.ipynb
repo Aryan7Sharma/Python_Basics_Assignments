{
 "cells": [
  {
   "cell_type": "markdown",
   "id": "d6c49554",
   "metadata": {},
   "source": [
    "# Assignment9 Solutions"
   ]
  },
  {
   "cell_type": "markdown",
   "id": "fc2762b8",
   "metadata": {},
   "source": [
    "    1. To what does a relative path refer?\n",
    "    2. What does an absolute path start with your operating system?\n",
    "    3. What do the functions os.getcwd() and os.chdir() do?\n",
    "    4. What are the . and .. folders?\n",
    "    5. In C:\\bacon\\eggs\\spam.txt, which part is the dir name, and which part is the base name?\n",
    "    6. What are the three “mode” arguments that can be passed to the open() function?\n",
    "    7. What happens if an existing file is opened in write mode?\n",
    "    8. How do you tell the difference between read() and readlines()?\n",
    "    9. What data structure does a shelf value resemble?\n"
   ]
  },
  {
   "cell_type": "markdown",
   "id": "1a572a50",
   "metadata": {},
   "source": [
    "    sol(1)--> A relative path is a way to specify the location of a directory relative to another directory."
   ]
  },
  {
   "cell_type": "markdown",
   "id": "e4412b91",
   "metadata": {},
   "source": [
    "    sol(2)--> An absolute path is used for refers to the complete details needed to locate a file or folder, starting from the root element and ending with the other subdirectories in which our file or folder exists."
   ]
  },
  {
   "cell_type": "markdown",
   "id": "499a8fef",
   "metadata": {},
   "source": [
    "    sol(3)--> os.getcwd() is used for getting the current working directorie and os.chdir() is used for changing our current working directorie."
   ]
  },
  {
   "cell_type": "markdown",
   "id": "6848bba3",
   "metadata": {},
   "source": [
    "    sol(4)--> a dot (.) which translate into the current directory and the parent directory, and a double-dot (..) are used for moving up in the hierarchy"
   ]
  },
  {
   "cell_type": "markdown",
   "id": "e85f5271",
   "metadata": {},
   "source": [
    "    sol(5)--> C:\\bacon\\eggs is the dir name\n",
    "              spam. txt is the base name"
   ]
  },
  {
   "cell_type": "markdown",
   "id": "ed1e5a3f",
   "metadata": {},
   "source": [
    "    sol(6)--> We have more than three “mode” arguments have that can be passed to the open() function.but I can explain mostly used three.\n",
    "              1- r:opens a file only reading mode\n",
    "              2- w:opens a file only writing mode\n",
    "              3- r+:opens a file in both mode reading and writing"
   ]
  },
  {
   "cell_type": "markdown",
   "id": "df130905",
   "metadata": {},
   "source": [
    "    sol(7)--> if be opened an existing file in write mode then it will discarded its existing content and the file is treated as a new empty file"
   ]
  },
  {
   "cell_type": "markdown",
   "id": "c5d0e4e9",
   "metadata": {},
   "source": [
    "    sol(8)-->  Read is used to read only single character from the standard output device,ReadLine is used to read a line or string from the standard output device.\n",
    "               f.read()      --   'hello\\nineuron \\nteam'\n",
    "               f.readlines() --   ['hello\\n', 'ineuron \\n', 'team']"
   ]
  },
  {
   "cell_type": "markdown",
   "id": "f40ce626",
   "metadata": {},
   "source": [
    "    sol(9)--> A shelf value resembles a dictionary value"
   ]
  },
  {
   "cell_type": "code",
   "execution_count": 1,
   "id": "4169a897",
   "metadata": {},
   "outputs": [],
   "source": [
    "import os"
   ]
  },
  {
   "cell_type": "code",
   "execution_count": 16,
   "id": "21f2ed67",
   "metadata": {},
   "outputs": [
    {
     "data": {
      "text/plain": [
       "<module 'posixpath' from '/home/aryan/anaconda3/lib/python3.9/posixpath.py'>"
      ]
     },
     "execution_count": 16,
     "metadata": {},
     "output_type": "execute_result"
    }
   ],
   "source": []
  },
  {
   "cell_type": "code",
   "execution_count": 19,
   "id": "221c8b7d",
   "metadata": {},
   "outputs": [
    {
     "name": "stdout",
     "output_type": "stream",
     "text": [
      "/home/aryan/Desktop/Ineuron/Assignments/0.0Python_Basics/python3.9\n"
     ]
    }
   ],
   "source": [
    "p ='python3.9/'\n",
    "ab =os.path.abspath(p)\n",
    "print(ab)"
   ]
  },
  {
   "cell_type": "code",
   "execution_count": 24,
   "id": "53b91c5b",
   "metadata": {},
   "outputs": [
    {
     "data": {
      "text/plain": [
       "'/home/aryan/Desktop/Ineuron/Assignments/0.0Python_Basics'"
      ]
     },
     "execution_count": 24,
     "metadata": {},
     "output_type": "execute_result"
    }
   ],
   "source": [
    "os.getcwd()"
   ]
  },
  {
   "cell_type": "code",
   "execution_count": 22,
   "id": "ce8df8f5",
   "metadata": {},
   "outputs": [],
   "source": [
    "# os.chdir(\"new_dir_name\")"
   ]
  },
  {
   "cell_type": "code",
   "execution_count": 26,
   "id": "ece69fcd",
   "metadata": {},
   "outputs": [
    {
     "data": {
      "text/plain": [
       "'/home/../Desktop/../Assignments/0.0Python_Basics'"
      ]
     },
     "execution_count": 26,
     "metadata": {},
     "output_type": "execute_result"
    }
   ],
   "source": [
    "#'/home/../Desktop/../Assignments/0.0Python_Basics'"
   ]
  },
  {
   "cell_type": "code",
   "execution_count": 48,
   "id": "b59ae112",
   "metadata": {},
   "outputs": [],
   "source": [
    "f=open(\"temp.txt\",\"r\")"
   ]
  },
  {
   "cell_type": "code",
   "execution_count": 37,
   "id": "6c49a916",
   "metadata": {},
   "outputs": [
    {
     "data": {
      "text/plain": [
       "'hello\\nineuron \\nteam'"
      ]
     },
     "execution_count": 37,
     "metadata": {},
     "output_type": "execute_result"
    }
   ],
   "source": [
    "f.read()"
   ]
  },
  {
   "cell_type": "code",
   "execution_count": 49,
   "id": "7a63f997",
   "metadata": {},
   "outputs": [
    {
     "data": {
      "text/plain": [
       "['hello\\n', 'ineuron \\n', 'team']"
      ]
     },
     "execution_count": 49,
     "metadata": {},
     "output_type": "execute_result"
    }
   ],
   "source": [
    "f.readlines()"
   ]
  },
  {
   "cell_type": "code",
   "execution_count": 47,
   "id": "3bab8b17",
   "metadata": {},
   "outputs": [],
   "source": [
    "f.close()"
   ]
  },
  {
   "cell_type": "code",
   "execution_count": null,
   "id": "a90cc735",
   "metadata": {},
   "outputs": [],
   "source": []
  }
 ],
 "metadata": {
  "kernelspec": {
   "display_name": "Python 3 (ipykernel)",
   "language": "python",
   "name": "python3"
  },
  "language_info": {
   "codemirror_mode": {
    "name": "ipython",
    "version": 3
   },
   "file_extension": ".py",
   "mimetype": "text/x-python",
   "name": "python",
   "nbconvert_exporter": "python",
   "pygments_lexer": "ipython3",
   "version": "3.9.7"
  }
 },
 "nbformat": 4,
 "nbformat_minor": 5
}
