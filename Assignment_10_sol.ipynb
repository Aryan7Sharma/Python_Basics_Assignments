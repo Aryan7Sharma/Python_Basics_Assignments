{
 "cells": [
  {
   "cell_type": "markdown",
   "id": "ef87ecc0",
   "metadata": {},
   "source": [
    "# Assignment10 Solutions"
   ]
  },
  {
   "cell_type": "markdown",
   "id": "73923b2b",
   "metadata": {},
   "source": [
    "    1. How do you distinguish between shutil.copy() and shutil.copytree()?\n",
    "    2. What function is used to rename files??\n",
    "    3. What is the difference between the delete functions in the send2trash and shutil modules?\n",
    "    4.ZipFile objects have a close() method just like File objects’ close() method. What ZipFile method is       equivalent to File objects’ open() method?\n",
    "    5. Create a programme that searches a folder tree for files with a certain file extension (such as .pdf or .jpg). Copy these files from whatever location they are in to a new folder.\n"
   ]
  },
  {
   "cell_type": "markdown",
   "id": "f5a23e9b",
   "metadata": {},
   "source": [
    "    sol(1)--> shutil.copy will copy a single file only, while shutil.copytree() will copy an entire folder."
   ]
  },
  {
   "cell_type": "markdown",
   "id": "47f2b6d9",
   "metadata": {},
   "source": [
    "    sol(2)--> rename() method is used for rename a files."
   ]
  },
  {
   "cell_type": "markdown",
   "id": "fd7001fb",
   "metadata": {},
   "source": [
    "    sol(3)--> shutil method is used for deleting a file or folder permanently, while send2trash functions will move a file or folder to the recycle bin."
   ]
  },
  {
   "cell_type": "markdown",
   "id": "4c7a8283",
   "metadata": {},
   "source": [
    "    sol(4)--> The zipfile.ZipFile() function is equivalent to the open() function"
   ]
  },
  {
   "cell_type": "code",
   "execution_count": 1,
   "id": "39d106ca",
   "metadata": {},
   "outputs": [
    {
     "name": "stdout",
     "output_type": "stream",
     "text": [
      "/home/aryan/Desktop/Ineuron/Assignments/0.0Python_Basics/randomFolder .pdf, .jpg\n"
     ]
    }
   ],
   "source": [
    "#sol(5)\n",
    "\n",
    "import os, shutil\n",
    "\n",
    "def sel_copy(folder, extensions, destFolder):\n",
    "    folder = os.path.abspath(folder)\n",
    "    destFolder = os.path.abspath(destFolder)\n",
    "    print( folder, ', '.join(extensions))\n",
    "    for foldername, subfolders, filenames in os.walk(folder):\n",
    "        for filename in filenames:\n",
    "            name, extension = os.path.splitext(filename)\n",
    "            if extension in extensions:\n",
    "                fileAbsPath = foldername + os.path.sep + filename\n",
    "                print('Coping', fileAbsPath, '--', destFolder)\n",
    "                shutil.copy(fileAbsPath, destFolder)\n",
    "\n",
    "extensions = ['.pdf', '.jpg']\n",
    "folder = 'randomFolder'\n",
    "destFolder = 'selectiveFolder'\n",
    "sel_copy(folder, extensions, destFolder)"
   ]
  },
  {
   "cell_type": "code",
   "execution_count": null,
   "id": "a84d2e9b",
   "metadata": {},
   "outputs": [],
   "source": []
  }
 ],
 "metadata": {
  "kernelspec": {
   "display_name": "Python 3 (ipykernel)",
   "language": "python",
   "name": "python3"
  },
  "language_info": {
   "codemirror_mode": {
    "name": "ipython",
    "version": 3
   },
   "file_extension": ".py",
   "mimetype": "text/x-python",
   "name": "python",
   "nbconvert_exporter": "python",
   "pygments_lexer": "ipython3",
   "version": "3.9.7"
  }
 },
 "nbformat": 4,
 "nbformat_minor": 5
}
