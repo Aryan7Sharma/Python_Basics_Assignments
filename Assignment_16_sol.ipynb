{
 "cells": [
  {
   "cell_type": "markdown",
   "id": "39046778",
   "metadata": {},
   "source": [
    "# Assignment_16_sol"
   ]
  },
  {
   "cell_type": "markdown",
   "id": "98b2f569",
   "metadata": {},
   "source": [
    "    1. Create a list called years_list, starting with the year of your birth, and each year thereafter until the year of your fifth birthday. For example, if you were born in 1980. the list would be years_list = [1980, 1981, 1982, 1983, 1984, 1985].\n",
    "\n",
    " \n",
    "\n",
    "\n",
    "\n",
    "    2. In which year in years_list was your third birthday? Remember, you were 0 years of age for your first year.\n",
    "\n",
    " \n",
    "\n",
    "\n",
    "\n",
    "    3.In the years list, which year were you the oldest?\n",
    "\n",
    " \n",
    "\n",
    "\n",
    "\n",
    "    4. Make a list called things with these three strings as elements: \"mozzarella\", \"cinderella\", \"salmonella\".\n",
    "\n",
    " \n",
    "\n",
    "\n",
    "\n",
    "    5. Capitalize the element in things that refers to a person and then print the list. Did it change the element in the list?\n",
    "\n",
    " \n",
    "\n",
    "\n",
    "\n",
    "    6. Make a surprise list with the elements \"Groucho,\" \"Chico,\" and \"Harpo.\"\n",
    "\n",
    " \n",
    "\n",
    "\n",
    "\n",
    "    7. Lowercase the last element of the surprise list, reverse it, and then capitalize it.\n",
    "\n",
    " \n",
    "\n",
    "\n",
    "\n",
    "    8. Make an English-to-French dictionary called e2f and print it. Here are your starter words: dog is chien, cat is chat, and walrus is morse.\n",
    "\n",
    " \n",
    "\n",
    "\n",
    "\n",
    "    9. Write the French word for walrus in your three-word dictionary e2f.\n",
    "\n",
    " \n",
    "\n",
    "\n",
    "\n",
    "    10. Make a French-to-English dictionary called f2e from e2f. Use the items method.\n",
    "\n",
    " \n",
    "\n",
    "\n",
    "\n",
    "    11. Print the English version of the French word chien using f2e.\n",
    "\n",
    " \n",
    "\n",
    "\n",
    "\n",
    "    12. Make and print a set of English words from the keys in e2f.\n",
    "\n",
    " \n",
    "\n",
    "\n",
    "\n",
    "    13. Make a multilevel dictionary called life. Use these strings for the topmost keys: 'animals', 'plants', and 'other'. Make the 'animals' key refer to another dictionary with the keys 'cats', 'octopi', and 'emus'. Make the 'cats' key refer to a list of strings with the values 'Henri', 'Grumpy', and 'Lucy'. Make all the other keys refer to empty dictionaries.\n",
    "\n",
    " \n",
    "\n",
    "\n",
    "\n",
    "    14. Print the top-level keys of life.\n",
    "\n",
    " \n",
    "\n",
    "\n",
    "\n",
    "    15. Print the keys for life['animals'].\n",
    "\n",
    " \n",
    "\n",
    "\n",
    "\n",
    "    16. Print the values for life['animals']['cats']\n",
    "\n",
    " "
   ]
  },
  {
   "cell_type": "code",
   "execution_count": 6,
   "id": "41be3031",
   "metadata": {},
   "outputs": [
    {
     "name": "stdout",
     "output_type": "stream",
     "text": [
      "2003\n"
     ]
    },
    {
     "data": {
      "text/plain": [
       "[2003, 2004, 2005, 2006, 2007]"
      ]
     },
     "execution_count": 6,
     "metadata": {},
     "output_type": "execute_result"
    }
   ],
   "source": [
    "#1\n",
    "birth_year=int(input())\n",
    "years_list=list(range(birth_year,birth_year+5))\n",
    "years_list"
   ]
  },
  {
   "cell_type": "code",
   "execution_count": 7,
   "id": "f6e00bc3",
   "metadata": {},
   "outputs": [
    {
     "data": {
      "text/plain": [
       "2006"
      ]
     },
     "execution_count": 7,
     "metadata": {},
     "output_type": "execute_result"
    }
   ],
   "source": [
    "#2\n",
    "years_list[3]"
   ]
  },
  {
   "cell_type": "code",
   "execution_count": 8,
   "id": "b6a2cb67",
   "metadata": {},
   "outputs": [
    {
     "data": {
      "text/plain": [
       "2007"
      ]
     },
     "execution_count": 8,
     "metadata": {},
     "output_type": "execute_result"
    }
   ],
   "source": [
    "#3\n",
    "years_list[-1]"
   ]
  },
  {
   "cell_type": "code",
   "execution_count": 10,
   "id": "1ddc9f8e",
   "metadata": {},
   "outputs": [
    {
     "data": {
      "text/plain": [
       "['mozzarella', 'cinderella', 'salmonella']"
      ]
     },
     "execution_count": 10,
     "metadata": {},
     "output_type": "execute_result"
    }
   ],
   "source": [
    "#4\n",
    "string=\"mozzarella\", \"cinderella\", \"salmonella\"\n",
    "things=list(string)\n",
    "things"
   ]
  },
  {
   "cell_type": "code",
   "execution_count": 12,
   "id": "ea9370ec",
   "metadata": {},
   "outputs": [
    {
     "name": "stdout",
     "output_type": "stream",
     "text": [
      "Mozzarella\n",
      "Cinderella\n",
      "Salmonella\n"
     ]
    },
    {
     "data": {
      "text/plain": [
       "['mozzarella', 'cinderella', 'salmonella']"
      ]
     },
     "execution_count": 12,
     "metadata": {},
     "output_type": "execute_result"
    }
   ],
   "source": [
    "#5\n",
    "for i in things:\n",
    "    print(i.capitalize())\n",
    "    \n",
    "things"
   ]
  },
  {
   "cell_type": "code",
   "execution_count": 21,
   "id": "de8ce7b5",
   "metadata": {},
   "outputs": [
    {
     "data": {
      "text/plain": [
       "['Groucho,', 'Chico,', 'Harpo.']"
      ]
     },
     "execution_count": 21,
     "metadata": {},
     "output_type": "execute_result"
    }
   ],
   "source": [
    "#6\n",
    "suprprise=\"Groucho,\", \"Chico,\",\"Harpo.\"\n",
    "supr_list=list(suprprise)\n",
    "supr_list"
   ]
  },
  {
   "cell_type": "code",
   "execution_count": 22,
   "id": "6c7a7d1c",
   "metadata": {},
   "outputs": [
    {
     "data": {
      "text/plain": [
       "'harpo.'"
      ]
     },
     "execution_count": 22,
     "metadata": {},
     "output_type": "execute_result"
    }
   ],
   "source": [
    "#7\n",
    "supr_list[-1].lower()"
   ]
  },
  {
   "cell_type": "code",
   "execution_count": 23,
   "id": "93c0fe69",
   "metadata": {},
   "outputs": [
    {
     "data": {
      "text/plain": [
       "'.opraH'"
      ]
     },
     "execution_count": 23,
     "metadata": {},
     "output_type": "execute_result"
    }
   ],
   "source": [
    "supr_list[-1][::-1]"
   ]
  },
  {
   "cell_type": "code",
   "execution_count": 24,
   "id": "770b355e",
   "metadata": {},
   "outputs": [
    {
     "data": {
      "text/plain": [
       "'Harpo.'"
      ]
     },
     "execution_count": 24,
     "metadata": {},
     "output_type": "execute_result"
    }
   ],
   "source": [
    "supr_list[-1].capitalize()"
   ]
  },
  {
   "cell_type": "code",
   "execution_count": 26,
   "id": "3e1ed2d4",
   "metadata": {},
   "outputs": [
    {
     "data": {
      "text/plain": [
       "{'dog': 'chien', 'cat': 'chat', 'walrus': 'morse'}"
      ]
     },
     "execution_count": 26,
     "metadata": {},
     "output_type": "execute_result"
    }
   ],
   "source": [
    "#8\n",
    "e2f = {'dog':'chien','cat':'chat','walrus':'morse'}\n",
    "e2f"
   ]
  },
  {
   "cell_type": "code",
   "execution_count": 28,
   "id": "a6d2be8d",
   "metadata": {},
   "outputs": [
    {
     "data": {
      "text/plain": [
       "'morse'"
      ]
     },
     "execution_count": 28,
     "metadata": {},
     "output_type": "execute_result"
    }
   ],
   "source": [
    "#9\n",
    "e2f['walrus']"
   ]
  },
  {
   "cell_type": "code",
   "execution_count": 32,
   "id": "14829335",
   "metadata": {},
   "outputs": [],
   "source": [
    "#10\n",
    "f2e={v:k for k,v in e2f.items()}"
   ]
  },
  {
   "cell_type": "code",
   "execution_count": 33,
   "id": "f78f8f71",
   "metadata": {},
   "outputs": [
    {
     "data": {
      "text/plain": [
       "{'chien': 'dog', 'chat': 'cat', 'morse': 'walrus'}"
      ]
     },
     "execution_count": 33,
     "metadata": {},
     "output_type": "execute_result"
    }
   ],
   "source": [
    "f2e"
   ]
  },
  {
   "cell_type": "code",
   "execution_count": 35,
   "id": "24be4103",
   "metadata": {},
   "outputs": [
    {
     "data": {
      "text/plain": [
       "'dog'"
      ]
     },
     "execution_count": 35,
     "metadata": {},
     "output_type": "execute_result"
    }
   ],
   "source": [
    "#11\n",
    "f2e[\"chien\"]"
   ]
  },
  {
   "cell_type": "code",
   "execution_count": 40,
   "id": "6f3baba6",
   "metadata": {},
   "outputs": [
    {
     "data": {
      "text/plain": [
       "dict_keys(['dog', 'cat', 'walrus'])"
      ]
     },
     "execution_count": 40,
     "metadata": {},
     "output_type": "execute_result"
    }
   ],
   "source": [
    "#12\n",
    "sets=e2f.keys()\n",
    "sets"
   ]
  },
  {
   "cell_type": "code",
   "execution_count": 41,
   "id": "4f3ce7a7",
   "metadata": {},
   "outputs": [
    {
     "data": {
      "text/plain": [
       "{'animals': {'cat': ['Henri', 'Grumpy', 'Lucy'], 'octopi': '', 'emus': ''},\n",
       " 'plants': '',\n",
       " 'other': ''}"
      ]
     },
     "execution_count": 41,
     "metadata": {},
     "output_type": "execute_result"
    }
   ],
   "source": [
    "#13\n",
    "life ={'animals':{'cat':['Henri', 'Grumpy', 'Lucy'], 'octopi':'', 'emus':''},\n",
    "       'plants' :'',\n",
    "       'other' :'' }\n",
    "\n",
    "life"
   ]
  },
  {
   "cell_type": "code",
   "execution_count": 42,
   "id": "d3129b73",
   "metadata": {},
   "outputs": [
    {
     "data": {
      "text/plain": [
       "dict_keys(['animals', 'plants', 'other'])"
      ]
     },
     "execution_count": 42,
     "metadata": {},
     "output_type": "execute_result"
    }
   ],
   "source": [
    "#14\n",
    "life.keys()"
   ]
  },
  {
   "cell_type": "code",
   "execution_count": 43,
   "id": "a5c3a642",
   "metadata": {},
   "outputs": [
    {
     "data": {
      "text/plain": [
       "dict_keys(['cat', 'octopi', 'emus'])"
      ]
     },
     "execution_count": 43,
     "metadata": {},
     "output_type": "execute_result"
    }
   ],
   "source": [
    "#15\n",
    "life['animals'].keys()"
   ]
  },
  {
   "cell_type": "code",
   "execution_count": 45,
   "id": "dec9aa54",
   "metadata": {},
   "outputs": [
    {
     "data": {
      "text/plain": [
       "['Henri', 'Grumpy', 'Lucy']"
      ]
     },
     "execution_count": 45,
     "metadata": {},
     "output_type": "execute_result"
    }
   ],
   "source": [
    "#16\n",
    "life['animals']['cat']"
   ]
  },
  {
   "cell_type": "code",
   "execution_count": null,
   "id": "92d89974",
   "metadata": {},
   "outputs": [],
   "source": []
  }
 ],
 "metadata": {
  "kernelspec": {
   "display_name": "Python 3 (ipykernel)",
   "language": "python",
   "name": "python3"
  },
  "language_info": {
   "codemirror_mode": {
    "name": "ipython",
    "version": 3
   },
   "file_extension": ".py",
   "mimetype": "text/x-python",
   "name": "python",
   "nbconvert_exporter": "python",
   "pygments_lexer": "ipython3",
   "version": "3.9.7"
  }
 },
 "nbformat": 4,
 "nbformat_minor": 5
}
