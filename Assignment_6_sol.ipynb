{
 "cells": [
  {
   "cell_type": "markdown",
   "id": "a5897425",
   "metadata": {},
   "source": [
    "# Assignment6 with Solutions"
   ]
  },
  {
   "cell_type": "markdown",
   "id": "620ce087",
   "metadata": {},
   "source": [
    "1. What are escape characters, and how do you use them?\n",
    "2. What do the escape characters n and t stand for?\n",
    "3. What is the way to include backslash characters in a string?\n",
    "4. The string \"Howl's Moving Castle\" is a correct value. Why isn't the single quote character in the word Howl's not escaped a problem?\n",
    "5. How do you write a string of newlines if you don't want to use the n character?\n",
    "6. What are the values of the given expressions?\n",
    "'Hello, world!'[1]\n",
    "'Hello, world!'[0:5]\n",
    "'Hello, world!'[:5]\n",
    "'Hello, world!'[3:]\n",
    "\n",
    "7. What are the values of the following expressions?\n",
    "'Hello'.upper()\n",
    "'Hello'.upper().isupper()\n",
    "'Hello'.upper().lower()\n",
    "8. What are the values of the following expressions?\n",
    "'Remember, remember, the fifth of July.'.split()\n",
    "'-'.join('There can only one.'.split())\n",
    "9. What are the methods for right-justifying, left-justifying, and centering a string?\n",
    "10. What is the best way to remove whitespace characters from the start or end?\n",
    "Sol(1)-->\n"
   ]
  },
  {
   "cell_type": "markdown",
   "id": "36964580",
   "metadata": {},
   "source": [
    "Sol(1)--> To insert characters that are illegal in a string, use an escape character an escape character use with backslash \\ for example \\n for new line, \\t for tab ect.\n"
   ]
  },
  {
   "cell_type": "markdown",
   "id": "b3a9b736",
   "metadata": {},
   "source": [
    "Sol(2)--> Escape characters n stands for  newline and  escape characters t stands for a tab or a multi whitespace.\n"
   ]
  },
  {
   "cell_type": "markdown",
   "id": "65ba0286",
   "metadata": {},
   "source": [
    "Sol(3)--> Use two backslashes to represent a backslash--  \"\\\\\"\n"
   ]
  },
  {
   "cell_type": "markdown",
   "id": "9b2724b5",
   "metadata": {},
   "source": [
    "Sol(4)--> Because we use double quote \"\" for a string.\n"
   ]
  },
  {
   "cell_type": "markdown",
   "id": "9830a7a9",
   "metadata": {},
   "source": [
    "Sol(5)--> We can assign a multiline string to a variable by using three quotes.\n"
   ]
  },
  {
   "cell_type": "markdown",
   "id": "c0cd9a1c",
   "metadata": {},
   "source": [
    "Sol(6)-->                                      After Evaluating \n",
    "\n",
    "          1. 'Hello world!'[1]         --      'e'\n",
    "\n",
    "          2. 'Hello world!'[0:5]       --      'Hello'\n",
    "\n",
    "          3. 'Hello world!'[:5]        --      'Hello'\n",
    "\n",
    "          4. 'Hello world!'[3:]        --      'lo world!'\n"
   ]
  },
  {
   "cell_type": "markdown",
   "id": "19ccaaa9",
   "metadata": {},
   "source": [
    "Sol(7)-->\n",
    "\n",
    "          1. 'Hello'.upper()             -- 'HELLO'\n",
    "\n",
    "          2. 'Hello'.upper().isupper()   --  True\n",
    "\n",
    "          3. 'Hello'.upper().lower()     --  'hello'\n"
   ]
  },
  {
   "cell_type": "markdown",
   "id": "ce543ddf",
   "metadata": {},
   "source": [
    "Sol(8)-->\n",
    "\n",
    "     1. 'Remember, remember, the fifth of November.'.split()   -->  ['Remember,', 'remember,', 'the', 'fifth', 'of', 'November.']\n",
    "     \n",
    "\n",
    "     2. '-'.join('There can be only one.'.split())             -->  'There-can-be-only-one.'  \n"
   ]
  },
  {
   "cell_type": "markdown",
   "id": "a9d0d10e",
   "metadata": {},
   "source": [
    "Sol(9)--> \n",
    "\n",
    "    Methods for right-justifying, left-justifying, and centering a string are --> rjust(),ljust(),center()\n",
    "\n",
    "\n"
   ]
  },
  {
   "cell_type": "markdown",
   "id": "9913b6f1",
   "metadata": {},
   "source": [
    "Sol(10)--> \n",
    "\n",
    "     rstrip()method removes whitespace at the end of a string and lstrip()method removes whitespace at the beginning of a string.\n"
   ]
  }
 ],
 "metadata": {
  "kernelspec": {
   "display_name": "Python 3 (ipykernel)",
   "language": "python",
   "name": "python3"
  },
  "language_info": {
   "codemirror_mode": {
    "name": "ipython",
    "version": 3
   },
   "file_extension": ".py",
   "mimetype": "text/x-python",
   "name": "python",
   "nbconvert_exporter": "python",
   "pygments_lexer": "ipython3",
   "version": "3.9.7"
  }
 },
 "nbformat": 4,
 "nbformat_minor": 5
}
