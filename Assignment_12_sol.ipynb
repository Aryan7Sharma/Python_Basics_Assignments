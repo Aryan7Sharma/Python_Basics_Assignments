{
 "cells": [
  {
   "cell_type": "markdown",
   "id": "962e76c3",
   "metadata": {},
   "source": [
    "# Assignment12 Solutions"
   ]
  },
  {
   "cell_type": "markdown",
   "id": "cfebed10",
   "metadata": {},
   "source": [
    "    1. In what modes should the PdfFileReader() and PdfFileWriter() File objects will be opened?\n",
    "    2. From a PdfFileReader object, how do you get a Page object for page 5?\n",
    "    3. What PdfFileReader variable stores the number of pages in the PDF document?\n",
    "    4. If a PdfFileReader object’s PDF is encrypted with the password swordfish, what must you do before you can obtain Page objects from it?\n",
    "    5. What methods do you use to rotate a page?\n",
    "    6. What is the difference between a Run object and a Paragraph object?\n",
    "    7. How do you obtain a list of Paragraph objects for a Document object that’s stored in a variable named doc?\n",
    "    8. What type of object has bold, underline, italic, strike, and outline variables?\n",
    "    9. What is the difference between False, True, and None for the bold variable?\n",
    "    10. How do you create a Document object for a new Word document?\n",
    "    11. How do you add a paragraph with the text 'Hello, there!' to a Document object stored in a variable named doc?\n",
    "    12. What integers represent the levels of headings available in Word documents?\n"
   ]
  },
  {
   "cell_type": "markdown",
   "id": "f4759949",
   "metadata": {},
   "source": [
    "    sol(1)--> Read-binary ('rb') for PdfFileReader() and write-binary ('wb') for PdfFileWriter()."
   ]
  },
  {
   "cell_type": "markdown",
   "id": "f334a8c0",
   "metadata": {},
   "source": [
    "    sol(2)--> Calling getPage(4)."
   ]
  },
  {
   "cell_type": "markdown",
   "id": "8cef8588",
   "metadata": {},
   "source": [
    "    sol(3)--> The numPages variable stores an integer of the number of pages in the PdfFileReader object."
   ]
  },
  {
   "cell_type": "markdown",
   "id": "79d1fdff",
   "metadata": {},
   "source": [
    "    sol(4)--> Call decrypt('swordfish')."
   ]
  },
  {
   "cell_type": "markdown",
   "id": "9bd6fc7f",
   "metadata": {},
   "source": [
    "    sol(5)--> rotateClockwise() and rotateCounterClockwise() methods."
   ]
  },
  {
   "cell_type": "markdown",
   "id": "ca7fbb48",
   "metadata": {},
   "source": [
    "    sol(6)--> A document contains multiple paragraphs. A paragraph begins on a new line and contains multiple  runs and Runs are contiguous groups of characters within the a paragraph."
   ]
  },
  {
   "cell_type": "markdown",
   "id": "23c3f137",
   "metadata": {},
   "source": [
    "    sol(7)--> doc=docx.Document('temp.docx')\n",
    "              doc.paragraphs"
   ]
  },
  {
   "cell_type": "markdown",
   "id": "4d975138",
   "metadata": {},
   "source": [
    "    sol(8)-->  A Run object has bold, underline,italic,strike and outline variables."
   ]
  },
  {
   "cell_type": "markdown",
   "id": "5050071b",
   "metadata": {},
   "source": [
    "    sol(9)--> True --(the attribute is always enabled)\n",
    "              False --(the attribute is always disabled)\n",
    "              None --(defaults to whatever the run’s style is set to)"
   ]
  },
  {
   "cell_type": "markdown",
   "id": "5764cd5f",
   "metadata": {},
   "source": [
    "    sol(10)--> Call the docx.Document() function."
   ]
  },
  {
   "cell_type": "markdown",
   "id": "244fbf1c",
   "metadata": {},
   "source": [
    "    sol(11)--> doc.add_paragraph('Hello, there!')"
   ]
  },
  {
   "cell_type": "markdown",
   "id": "c67664dc",
   "metadata": {},
   "source": [
    "    sol(1)-->"
   ]
  },
  {
   "cell_type": "code",
   "execution_count": null,
   "id": "8a98a28a",
   "metadata": {},
   "outputs": [],
   "source": []
  }
 ],
 "metadata": {
  "kernelspec": {
   "display_name": "Python 3 (ipykernel)",
   "language": "python",
   "name": "python3"
  },
  "language_info": {
   "codemirror_mode": {
    "name": "ipython",
    "version": 3
   },
   "file_extension": ".py",
   "mimetype": "text/x-python",
   "name": "python",
   "nbconvert_exporter": "python",
   "pygments_lexer": "ipython3",
   "version": "3.9.7"
  }
 },
 "nbformat": 4,
 "nbformat_minor": 5
}
