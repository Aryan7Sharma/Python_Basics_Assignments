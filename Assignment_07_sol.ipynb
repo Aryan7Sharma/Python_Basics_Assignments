{
 "cells": [
  {
   "cell_type": "markdown",
   "id": "1c9282f4",
   "metadata": {},
   "source": [
    "# Assignment7 with Solutions"
   ]
  },
  {
   "cell_type": "markdown",
   "id": "639d6170",
   "metadata": {},
   "source": [
    "1. What is the name of the feature responsible for generating Regex objects?\n",
    "2. Why do raw strings often appear in Regex objects?\n",
    "3. What is the return value of the search() method?\n",
    "4. From a Match item, how do you get the actual strings that match the pattern?\n",
    "5. In the regex which created from the r'(\\d\\d\\d)-(\\d\\d\\d-\\d\\d\\d\\d)', what does group zero cover? Group 2? Group 1?\n",
    "6. In standard expression syntax, parentheses and intervals have distinct meanings. How can you tell a regex that you want it to fit real parentheses and periods?\n",
    "7. The findall() method returns a string list or a list of string tuples. What causes it to return one of the two options?\n",
    "8. In standard expressions, what does the | character mean?\n",
    "9. In regular expressions, what does the character stand for?\n",
    "10.In regular expressions, what is the difference between the + and * characters?\n",
    "11. What is the difference between {4} and {4,5} in regular expression?\n",
    "12. What do you mean by the \\d, \\w, and \\s shorthand character classes signify in regular expressions?\n",
    "13. What do means by \\D, \\W, and \\S shorthand character classes signify in regular expressions?\n",
    "14. What is the difference between .*? and .*?\n",
    "15. What is the syntax for matching both numbers and lowercase letters with a character class?\n",
    "16. What is the procedure for making a normal expression in regax case insensitive?\n",
    "17. What does the . character normally match? What does it match if re.DOTALL is passed as 2nd argument in re.compile()?\n",
    "18. If numReg = re.compile(r'\\d+'), what will numRegex.sub('X', '11 drummers, 10 pipers, five rings, 4 hen') return?\n",
    "19. What does passing re.VERBOSE as the 2nd argument to re.compile() allow to do?\n",
    "20. How would you write a regex that match a number with comma for every three digits? It must match the given following:\n",
    "'42'\n",
    "'1,234'\n",
    "'6,368,745'\n",
    "but not the following:\n",
    "'12,34,567' (which has only two digits between the commas)\n",
    "'1234' (which lacks commas)\n",
    "21. How would you write a regex that matches the full name of someone whose last name is Watanabe? You can assume that the first name that comes before it will always be one word that begins with a capital letter. The regex must match the following:\n",
    "'Haruto Watanabe'\n",
    "'Alice Watanabe'\n",
    "'RoboCop Watanabe'\n",
    "but not the following:\n",
    "'haruto Watanabe' (where the first name is not capitalized)\n",
    "'Mr. Watanabe' (where the preceding word has a nonletter character)\n",
    "'Watanabe' (which has no first name)\n",
    "'Haruto watanabe' (where Watanabe is not capitalized)\n",
    " 22. How would you write a regex that matches a sentence where the first word is either Alice, Bob, or Carol; the second word is either eats, pets, or throws; the third word is apples, cats, or baseballs; and the sentence ends with a period? This regex should be case-insensitive. It must match the following:\n",
    "'Alice eats apples.'\n",
    "'Bob pets cats.'\n",
    "'Carol throws baseballs.'\n",
    "'Alice throws Apples.'\n",
    "'BOB EATS CATS.'\n",
    "but not the following:\n",
    "'RoboCop eats apples.'\n",
    "'ALICE THROWS FOOTBALLS.'\n",
    "'Carol eats 7 cats.'\n",
    "\n"
   ]
  },
  {
   "cell_type": "markdown",
   "id": "a3ecef05",
   "metadata": {},
   "source": [
    "    Sol(1)--> The re.compile() function\n"
   ]
  },
  {
   "cell_type": "markdown",
   "id": "518e1095",
   "metadata": {},
   "source": [
    "    Sol(2)-->  Raw strings are used so that backslashes do not have to be escaped.\n"
   ]
  },
  {
   "cell_type": "markdown",
   "id": "aef66240",
   "metadata": {},
   "source": [
    "    Sol(3)--> The search() method returns boolean value True or False\n"
   ]
  },
  {
   "cell_type": "markdown",
   "id": "2ed292ee",
   "metadata": {},
   "source": [
    "    Sol(4)--> The group() method returns strings of the matched text.\n"
   ]
  },
  {
   "cell_type": "markdown",
   "id": "d5ec8b9e",
   "metadata": {},
   "source": [
    "    Sol(5)--> Group 0 is the entire match, group 1 covers the first set of parentheses, and group 2 covers the second set of parentheses.\n"
   ]
  },
  {
   "cell_type": "markdown",
   "id": "ea2115e7",
   "metadata": {},
   "source": [
    "    Sol(6)--> With a backslash: \\., \\(, and \\)\n"
   ]
  },
  {
   "cell_type": "markdown",
   "id": "059867e2",
   "metadata": {},
   "source": [
    "    Sol(7)--> If the regex didn't have group then its return a list of strings and if regex have a group then its return a list of tuples of strings."
   ]
  },
  {
   "cell_type": "markdown",
   "id": "56d86bc5",
   "metadata": {},
   "source": [
    "    Sol(8)--> The | character signifies matching \"either, or\" between two groups\n"
   ]
  },
  {
   "cell_type": "markdown",
   "id": "cef7337f",
   "metadata": {},
   "source": [
    "    Sol(9)--> Each character in a regular expression is either a metacharacter, having a special meaning, or a regular character that has a literal meaning. \n"
   ]
  },
  {
   "cell_type": "markdown",
   "id": "ba8ecd8b",
   "metadata": {},
   "source": [
    "    Sol(10)--> The + matches one or more. The * matches zero or more.\n"
   ]
  },
  {
   "cell_type": "markdown",
   "id": "2a08de0a",
   "metadata": {},
   "source": [
    "    Sol(11)-->{4}between 0 and 4 characters and {4,5}between 4 and 5 characters, inclusive.\n"
   ]
  },
  {
   "cell_type": "markdown",
   "id": "3efd989b",
   "metadata": {},
   "source": [
    "    Sol(12)--> The \\d, \\w, and \\s shorthand character classes match a single digit, word, or space character, \n",
    "               respectively\n"
   ]
  },
  {
   "cell_type": "markdown",
   "id": "23480802",
   "metadata": {},
   "source": [
    "    Sol(13)--> The \\D, \\W, and \\S shorthand character classes match a single character that is not a digit, \n",
    "    word,or space character, respectively\n"
   ]
  },
  {
   "cell_type": "markdown",
   "id": "5646966e",
   "metadata": {},
   "source": [
    "    Sol(14)--> input=aaaAaryanZuuuuAsharmaaZeeee\n",
    "               A.*Z yields 1 match: (AaryanZuuuuAsharmaaZ)\n",
    "               A.*?Z yields 2 matches: (AaryanZ and AsharmaZ)"
   ]
  },
  {
   "cell_type": "markdown",
   "id": "8358d004",
   "metadata": {},
   "source": [
    "    Sol(15)--> [0-9a-z]\n"
   ]
  },
  {
   "cell_type": "markdown",
   "id": "2e5814ea",
   "metadata": {},
   "source": [
    "    Sol(16)--> Pass re.IGNORECASE or re.I as a second argument to re.compile(). For example, \n",
    "               ro=re.compile(r'robocop', re.I) re.compile(r'robocop', re.I)\n",
    "\n",
    "\n"
   ]
  },
  {
   "cell_type": "markdown",
   "id": "cc2064df",
   "metadata": {},
   "source": [
    "    Sol(17)--> The . character in a regular expression is called a wildcard and will match any character except \n",
    "               for a newline.\n",
    "               By passing re.DOTALL as the second argument to re.compile(), you can make the dot character \n",
    "               matchall characters, including the newline character.\n"
   ]
  },
  {
   "cell_type": "markdown",
   "id": "44133772",
   "metadata": {},
   "source": [
    "    Sol(18)--> X drummers, X pipers, five rings, X hen\n"
   ]
  },
  {
   "cell_type": "markdown",
   "id": "d3157067",
   "metadata": {},
   "source": [
    "    Sol(19)--> To ignore whitespace and comments inside the regular expression string.\n"
   ]
  },
  {
   "cell_type": "markdown",
   "id": "0274c952",
   "metadata": {},
   "source": [
    "    Sol(20)--> num_Comm = re.compile(r'(^\\d{1,3})(,\\d{3})*$') numCommas.search('12,34,567').group()\n"
   ]
  },
  {
   "cell_type": "markdown",
   "id": "2c9c82cb",
   "metadata": {},
   "source": [
    "    Sol(21)--> fullName = re.compile(r'[A-Z]\\w [A-Z]\\w') mo = fullName.findall('Haruto Watanabe, haruto Watanabe, Alice Watanabe, Watanabe, Haruto watanabe, RoboCop Watanabe') mo.group()\n"
   ]
  }
 ],
 "metadata": {
  "kernelspec": {
   "display_name": "Python 3 (ipykernel)",
   "language": "python",
   "name": "python3"
  },
  "language_info": {
   "codemirror_mode": {
    "name": "ipython",
    "version": 3
   },
   "file_extension": ".py",
   "mimetype": "text/x-python",
   "name": "python",
   "nbconvert_exporter": "python",
   "pygments_lexer": "ipython3",
   "version": "3.9.7"
  }
 },
 "nbformat": 4,
 "nbformat_minor": 5
}
