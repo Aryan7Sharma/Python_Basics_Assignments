{
 "cells": [
  {
   "cell_type": "markdown",
   "id": "807091dc",
   "metadata": {},
   "source": [
    "# Assignment5 with Solutions  "
   ]
  },
  {
   "cell_type": "markdown",
   "id": "3f4b9dee",
   "metadata": {},
   "source": [
    "1. What does an empty dictionary's code look like?\n",
    "2. What is the value of a dictionary value with the key 'foo' and the value 42?\n",
    "3. What is the most significant distinction between a dictionary and a list?\n",
    "4. What happens if you try to access spam['foo'] if spam is {'bar': 100}?\n",
    "5. If a dictionary is stored in spam, what is the difference between the expressions 'cat' in spam and 'cat' in spam.keys()?\n",
    "6. If a dictionary is stored in spam, what is the difference between the expressions 'cat' in spam and 'cat' in spam.values()?\n",
    "7. What is a shortcut for the following code?\n",
    "if 'color' not in spam:\n",
    "spam['color'] = 'black'\n",
    "\n",
    "8. How do you \"pretty print\" dictionary values using which module and function?\n"
   ]
  },
  {
   "cell_type": "markdown",
   "id": "ac95fbca",
   "metadata": {},
   "source": [
    "Sol(1)--> Variable_name={} \n"
   ]
  },
  {
   "cell_type": "markdown",
   "id": "1840d85e",
   "metadata": {},
   "source": [
    "Sol(2)--> 42\n"
   ]
  },
  {
   "cell_type": "markdown",
   "id": "b91c285e",
   "metadata": {},
   "source": [
    "Sol(3) A list is an ordered sequence of objects where we can access the value via their position, whereas dictionaries are unordered sets where the value can be accessed via keys and not via their position.\n"
   ]
  },
  {
   "cell_type": "markdown",
   "id": "f4c70e73",
   "metadata": {},
   "source": [
    "Sol(4)--> If spam is {'bar': 100} and be try to access spam['foo'] then it's throws an key error because spam is an dictionary not an list and also be didn't able to access the value of list if we not give that position of that value we want to access.  "
   ]
  },
  {
   "cell_type": "markdown",
   "id": "cac943ef",
   "metadata": {},
   "source": [
    "Sol(5)--> There is no difference between both expression gives an same result that means both checks whether there is a 'cat' key in the dictionary while 'cat' in spam.\n"
   ]
  },
  {
   "cell_type": "markdown",
   "id": "7722ca9a",
   "metadata": {},
   "source": [
    "Sol(6)--> Expressions 'cat' in spam checks whether there is a 'cat' key in the dictionary while 'cat' in spam and\n",
    "          Expressions 'cat' in spam.values() checks whether there is a 'cat' value in the dictionary."
   ]
  },
  {
   "cell_type": "markdown",
   "id": "3e07a7b2",
   "metadata": {},
   "source": [
    "Sol(7)--> spam.setdefault('color','black')\n"
   ]
  },
  {
   "cell_type": "markdown",
   "id": "e4c26801",
   "metadata": {},
   "source": [
    "Sol(8)--> First we need to import pprint Module then we use pprint.pprint() Function.\n"
   ]
  }
 ],
 "metadata": {
  "kernelspec": {
   "display_name": "Python 3 (ipykernel)",
   "language": "python",
   "name": "python3"
  },
  "language_info": {
   "codemirror_mode": {
    "name": "ipython",
    "version": 3
   },
   "file_extension": ".py",
   "mimetype": "text/x-python",
   "name": "python",
   "nbconvert_exporter": "python",
   "pygments_lexer": "ipython3",
   "version": "3.9.7"
  }
 },
 "nbformat": 4,
 "nbformat_minor": 5
}
