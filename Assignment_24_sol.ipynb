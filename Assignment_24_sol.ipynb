{
 "cells": [
  {
   "cell_type": "markdown",
   "id": "1e9a1d98",
   "metadata": {},
   "source": [
    "# Assignment24 Solutions"
   ]
  },
  {
   "cell_type": "markdown",
   "id": "32a1eeeb",
   "metadata": {},
   "source": [
    "    1. What is the relationship between def statements and lambda expressions ?\n",
    "\n",
    "\n",
    "### sol-->   The def defined functions do not return anything if not explicitly returned whereas the lambda function does return an object. The def functions must be declared in the namespace. The def functions can perform any python task.\n",
    "   \n",
    "    2. What is the benefit of lambda?\n",
    "\n",
    "\n",
    "### sol--> One of the most benefits of a lambda expression is to reduce the amount of code be can implement a whole function definition in a sigle line of code.\n",
    "\n",
    "\n",
    "    3. Compare and contrast map, filter, and reduce.\n",
    "\n",
    "\n",
    "### sol-->map-- map creates a new array by transforming every element in an array individually. \n",
    "###          filter-- filter creates a new array by removing elements that don't belong. \n",
    "###          reduce-- reduce takes all of the elements in an array and reduces them into a single value. \n",
    "\n",
    "\n",
    "    4. What are function annotations, and how are they used?\n",
    "    \n",
    "    \n",
    "### sol--> Function annotations provide a way of associating various parts of a function with arbitrary python expressions at compile time.\n",
    "###           def func(x:'annotating x', y: 'annotating y', z: int) -> float: print(x + y + z)\n",
    "###            func(1,2,3)                    output -- 6\n",
    "###             func(\"iNeu\",\"r\",\"on\") output -- iNeuron.\n",
    "\n",
    "\n",
    "\n",
    "\n",
    "    5. What are recursive functions, and how are they used?\n",
    "    \n",
    "    \n",
    "### sol--> A recursive function is a function  that  call call  itself continuously for execution until we can terminate it with the help of the base condition.\n",
    "\n",
    "\n",
    "\n",
    "    6. What are some general design guidelines for coding functions?\n",
    "    \n",
    "    \n",
    "### sol-->Safe,Secure,Reliable,Testable,Maintainable. which means we need to write a code in a form of class and methods not in a scripting form.\n",
    "\n",
    "\n",
    "\n",
    "    7. Name three or more ways that functions can communicate results to a caller.\n",
    "    \n",
    "    \n",
    "### sol--> Function Calling, Call by Value, Call by reference"
   ]
  },
  {
   "cell_type": "code",
   "execution_count": null,
   "id": "45313afb",
   "metadata": {},
   "outputs": [],
   "source": []
  }
 ],
 "metadata": {
  "kernelspec": {
   "display_name": "Python 3 (ipykernel)",
   "language": "python",
   "name": "python3"
  },
  "language_info": {
   "codemirror_mode": {
    "name": "ipython",
    "version": 3
   },
   "file_extension": ".py",
   "mimetype": "text/x-python",
   "name": "python",
   "nbconvert_exporter": "python",
   "pygments_lexer": "ipython3",
   "version": "3.9.7"
  }
 },
 "nbformat": 4,
 "nbformat_minor": 5
}
