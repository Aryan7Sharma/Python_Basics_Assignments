{
 "cells": [
  {
   "cell_type": "markdown",
   "id": "f05c3fb7",
   "metadata": {},
   "source": [
    "# Assignment23 Solutions"
   ]
  },
  {
   "cell_type": "markdown",
   "id": "9855e0f7",
   "metadata": {},
   "source": [
    "    1. What is the result of the code, and why?\n",
    "    >>> def func(a, b=6, c=8):\n",
    "    print(a, b, c)\n",
    "    >>> func(1, 2)\n",
    "\n",
    "\n",
    "\n",
    "### sol--> This code print a (1,2,8) because for (b and c) attributes be assign a default value b=6, c=8 sp when be call a func(1,2) and be did not provide a c value so it will take its bydefault value 8.  \n",
    "\n",
    "\n",
    "\n",
    "    2. What is the result of this code, and why?\n",
    "    >>> def func(a, b, c=5):\n",
    "    print(a, b, c)\n",
    "    >>> func(1, c=3, b=2)\n",
    "    \n",
    "    \n",
    "### sol--> This code return a (1,2,3) as a output because when be call a func(1, c=3, b=2) we provide  so it will take a =1 ,b=2,c=3.\n",
    "\n",
    "\n",
    "\n",
    "\n",
    "    3. How about this code: what is its result, and why?\n",
    "    >>> def func(a, *pargs):\n",
    "    print(a, pargs)\n",
    "    >>> func(1, 2, 3)\n",
    "    \n",
    "    \n",
    "    \n",
    "### sol--> The code will produce a output -- 1 (2, 3) because when we assig a *pargs (args) so it will take a n  number a value or parameter which can  print in a tuple form. \n",
    "\n",
    "\n",
    "\n",
    "\n",
    "    4. What does this code print, and why?\n",
    "    >>> def func(a, **kargs):\n",
    "    print(a, kargs)\n",
    "    >>> func(a=1, c=3, b=2)\n",
    "    \n",
    "    \n",
    "    \n",
    "### sol--> Output of this Code -- 1 {'c': 3, 'b': 2}\n",
    "###           Because we use a  the (**kwargs) This  parameter in the function is capturing keyword arguments you are passing a single object without unpacking it.\n",
    "\n",
    "\n",
    "\n",
    "\n",
    "        5. What gets printed by this, and explain?\n",
    "    >>> def func(a, b, c=8, d=5): print(a, b, c, d)\n",
    "    >>> func(1, *(5, 6))\n",
    "    \n",
    "    \n",
    "    \n",
    "### sol--> Output of this Code --  1 5 6 1\n",
    "###           When we pass func(1, *(5, 6)) so the *(5, 6) will overwrite c by default value as a 6. \n",
    "\n",
    "\n",
    "\n",
    "\n",
    "\n",
    "    6. what is the result of this, and explain?\n",
    "    >>> def func(a, b, c): a = 2; b[0] = 'x'; c['a'] = 'y'\n",
    "    >>> l=1; m=[1]; n={'a':0}\n",
    "    >>> func(l, m, n)\n",
    "    >>> l, m, n\n",
    "    \n",
    "    \n",
    "    \n",
    "### sol--> Output of this Code --   (1, ['x'], {'a': 'y'})\n",
    "###            Because for a we provide a int 1 (l=1) which mean it will print a 1 because globally l assign a value (1) , ,for 2nd attribute we provide a list m=[1] but inside a func() we modify the that b[0]=\"x\" and for 3rd   attribute be modify the key(\"a\") value from 0 to \"y\".\n",
    "\n",
    "\n"
   ]
  },
  {
   "cell_type": "code",
   "execution_count": 3,
   "id": "9368a507",
   "metadata": {},
   "outputs": [
    {
     "name": "stdout",
     "output_type": "stream",
     "text": [
      "1 (2, 3)\n"
     ]
    }
   ],
   "source": [
    "def func(a, *pargs):\n",
    "    print(a, pargs)\n",
    "func(1, 2, 3)"
   ]
  },
  {
   "cell_type": "code",
   "execution_count": 5,
   "id": "074a9f65",
   "metadata": {},
   "outputs": [
    {
     "data": {
      "text/plain": [
       "tuple"
      ]
     },
     "execution_count": 5,
     "metadata": {},
     "output_type": "execute_result"
    }
   ],
   "source": [
    "type((2, 3))"
   ]
  },
  {
   "cell_type": "code",
   "execution_count": 16,
   "id": "8beeac80",
   "metadata": {},
   "outputs": [
    {
     "name": "stdout",
     "output_type": "stream",
     "text": [
      "1 ['x'] {'a': 'y'}\n"
     ]
    }
   ],
   "source": [
    "def func(a, b, c): a = 2; b[0] = 'x'; c['a'] = 'y'\n",
    "l=1; m=[1]; n={'a':0}\n",
    "func(l, m, n)\n",
    "print(l, m, n)"
   ]
  },
  {
   "cell_type": "code",
   "execution_count": 10,
   "id": "52766ee3",
   "metadata": {},
   "outputs": [],
   "source": [
    "m=[1]"
   ]
  },
  {
   "cell_type": "code",
   "execution_count": 11,
   "id": "0388f92f",
   "metadata": {},
   "outputs": [
    {
     "data": {
      "text/plain": [
       "[1]"
      ]
     },
     "execution_count": 11,
     "metadata": {},
     "output_type": "execute_result"
    }
   ],
   "source": [
    "m"
   ]
  },
  {
   "cell_type": "code",
   "execution_count": 12,
   "id": "f0e8cf49",
   "metadata": {},
   "outputs": [],
   "source": [
    "m[0]=\"x\""
   ]
  },
  {
   "cell_type": "code",
   "execution_count": 13,
   "id": "78dfbed2",
   "metadata": {},
   "outputs": [
    {
     "data": {
      "text/plain": [
       "['x']"
      ]
     },
     "execution_count": 13,
     "metadata": {},
     "output_type": "execute_result"
    }
   ],
   "source": [
    "m"
   ]
  },
  {
   "cell_type": "code",
   "execution_count": null,
   "id": "9a625598",
   "metadata": {},
   "outputs": [],
   "source": []
  }
 ],
 "metadata": {
  "kernelspec": {
   "display_name": "Python 3 (ipykernel)",
   "language": "python",
   "name": "python3"
  },
  "language_info": {
   "codemirror_mode": {
    "name": "ipython",
    "version": 3
   },
   "file_extension": ".py",
   "mimetype": "text/x-python",
   "name": "python",
   "nbconvert_exporter": "python",
   "pygments_lexer": "ipython3",
   "version": "3.9.7"
  }
 },
 "nbformat": 4,
 "nbformat_minor": 5
}
