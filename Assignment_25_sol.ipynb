{
 "cells": [
  {
   "cell_type": "markdown",
   "id": "1dac12e7",
   "metadata": {},
   "source": [
    "# Assignment25 Solutions"
   ]
  },
  {
   "cell_type": "markdown",
   "id": "cf8e24a3",
   "metadata": {},
   "source": [
    "    1) . What is the difference between enclosing a list comprehension in square brackets and parentheses?\n",
    "    \n",
    "### sol-->   When we use a Square brackets it will take a output in a list form while when we use aparentheses  it will take a output in a form of generator .\n",
    "\n",
    "    2) What is the relationship between generators and iterators?\n",
    "    \n",
    "### sol--> Iterators are the objects that use the ( next() ) method to get the next value of the sequence and a generator is a function that yields a sequence of values using a yield statement or keyword.\n",
    "    \n",
    "    3) What are the signs that a function is a generator function?\n",
    "    \n",
    "### sol--> If a function contains at least one yield statement.\n",
    "    \n",
    "    4) What is the purpose of a yield statement?\n",
    "    \n",
    "### sol--> The yield statement use for  yields a sequence of values.\n",
    "    \n",
    "    5) What is the relationship between map calls and list comprehensions? Make a comparison and contrast between the two.\n",
    "    \n",
    "### sol-->   List comprehension is more easier to read as compared to map,  List comprehension are used when a list of results is required as map only returns a map object and does not return any list. Map is faster in case of calling an already defined function. \n"
   ]
  },
  {
   "cell_type": "code",
   "execution_count": 5,
   "id": "d6db12e1",
   "metadata": {},
   "outputs": [],
   "source": [
    "a=[(i for i in range(5))]"
   ]
  },
  {
   "cell_type": "code",
   "execution_count": 6,
   "id": "4070c0c3",
   "metadata": {},
   "outputs": [
    {
     "data": {
      "text/plain": [
       "[<generator object <genexpr> at 0x7f97c2c0f740>]"
      ]
     },
     "execution_count": 6,
     "metadata": {},
     "output_type": "execute_result"
    }
   ],
   "source": [
    "a"
   ]
  },
  {
   "cell_type": "code",
   "execution_count": 7,
   "id": "0cfe56ca",
   "metadata": {},
   "outputs": [
    {
     "data": {
      "text/plain": [
       "list"
      ]
     },
     "execution_count": 7,
     "metadata": {},
     "output_type": "execute_result"
    }
   ],
   "source": [
    "type(a)"
   ]
  },
  {
   "cell_type": "code",
   "execution_count": 4,
   "id": "052be7e1",
   "metadata": {},
   "outputs": [
    {
     "name": "stdout",
     "output_type": "stream",
     "text": [
      "0\n",
      "1\n",
      "2\n",
      "3\n",
      "4\n"
     ]
    }
   ],
   "source": [
    "for i in a:print(i)"
   ]
  },
  {
   "cell_type": "code",
   "execution_count": null,
   "id": "04dfc1f3",
   "metadata": {},
   "outputs": [],
   "source": []
  }
 ],
 "metadata": {
  "kernelspec": {
   "display_name": "Python 3 (ipykernel)",
   "language": "python",
   "name": "python3"
  },
  "language_info": {
   "codemirror_mode": {
    "name": "ipython",
    "version": 3
   },
   "file_extension": ".py",
   "mimetype": "text/x-python",
   "name": "python",
   "nbconvert_exporter": "python",
   "pygments_lexer": "ipython3",
   "version": "3.9.7"
  }
 },
 "nbformat": 4,
 "nbformat_minor": 5
}
