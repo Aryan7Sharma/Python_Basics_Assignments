{
 "cells": [
  {
   "cell_type": "markdown",
   "id": "33c39779",
   "metadata": {},
   "source": [
    "# Assignment3 with Solutions "
   ]
  },
  {
   "cell_type": "markdown",
   "id": "735d0a0d",
   "metadata": {},
   "source": [
    "1. Why are functions advantageous to have in your programs?\n",
    "2. When does the code in a function run: when it's specified or when it's called?\n",
    "3. What statement creates a function?\n",
    "4. What is the difference between a function and a function call?\n",
    "5. How many global scopes are there in a Python program? How many local scopes?\n",
    "6. What happens to variables in a local scope when the function call returns?\n",
    "7. What is the concept of a return value? Is it possible to have a return value in an expression?\n",
    "8. If a function does not have a return statement, what is the return value of a call to that function?\n",
    "9. How do you make a function variable refer to the global variable?\n",
    "10. What is the data type of None?\n",
    "11. What does the sentence import areallyourpetsnamederic do?\n",
    "12. If you had a bacon() feature in a spam module, what would you call it after importing spam?\n",
    "13. What can you do to save a programme from crashing if it encounters an error?\n",
    "14. What is the purpose of the try clause? What is the purpose of the except clause?\n"
   ]
  },
  {
   "cell_type": "markdown",
   "id": "a601c3cd",
   "metadata": {},
   "source": [
    "Sol(1)--> Because Function satisfy the DRY Principal which means (Do not repeat yourself)\n"
   ]
  },
  {
   "cell_type": "markdown",
   "id": "8419199e",
   "metadata": {},
   "source": [
    "Sol(2)--> The code in a function run when it's called"
   ]
  },
  {
   "cell_type": "markdown",
   "id": "dcc0a449",
   "metadata": {},
   "source": [
    "Sol(3)--> In Python def Keyword creates a function (def function():)"
   ]
  },
  {
   "cell_type": "markdown",
   "id": "05abc231",
   "metadata": {},
   "source": [
    "Sol(4)--> When we declare and define the function that means when we write all the codes for the function. At that point the function just sits there doing nothing.\n",
    "\n",
    "function call is the call who tell the interpreter to run the code in your function."
   ]
  },
  {
   "cell_type": "markdown",
   "id": "3b5ec4f8",
   "metadata": {},
   "source": [
    "Sol(5)--> There's only one global Python scope per program execution.and we can create a n number of local scopes in our Program."
   ]
  },
  {
   "cell_type": "markdown",
   "id": "b4258313",
   "metadata": {},
   "source": [
    "Sol(6)--> A local variable retains its value until the next time the function is called and it becomes undefined after the function call completes."
   ]
  },
  {
   "cell_type": "markdown",
   "id": "c5e5be41",
   "metadata": {},
   "source": [
    "Sol(7)--> A return statement is used to return the returns the result at the end of the function excution (value of the expression following the return keyword) to the caller. The statements or anything after the return statements are not executed. If the return statement is without any expression, then it's bydefault value None is returned."
   ]
  },
  {
   "cell_type": "markdown",
   "id": "dfa29fc5",
   "metadata": {},
   "source": [
    "Sol(8)--> If a function does not have a return statement then it's bydefault return a None when we call that function."
   ]
  },
  {
   "cell_type": "markdown",
   "id": "1a7a2c42",
   "metadata": {},
   "source": [
    "Sol(9)--> If we want to make a function variable refer to the global variable we can do that very easily with the help of the global keyword (global variable_name)"
   ]
  },
  {
   "cell_type": "markdown",
   "id": "69ba2307",
   "metadata": {},
   "source": [
    "Sol(10)--> It's NoneType"
   ]
  },
  {
   "cell_type": "markdown",
   "id": "ad55fb61",
   "metadata": {},
   "source": [
    "Sol(11)--> (import areallyourpetsnamederic) this will import the areallyourpetsnamederic module in our pyfile or where we run this command so be can access all the function or methods who are aviable in that module without creating that function or methods."
   ]
  },
  {
   "cell_type": "markdown",
   "id": "aa0e4ea6",
   "metadata": {},
   "source": [
    "Sol(12)--> spam.bacon()#if we want to use or call that function"
   ]
  },
  {
   "cell_type": "markdown",
   "id": "7e493e58",
   "metadata": {},
   "source": [
    "Sol(13)--> We use a Exception Handling which can handle the error with the help of the these four blocks(try,except,else,finally)"
   ]
  },
  {
   "cell_type": "markdown",
   "id": "9db2e413",
   "metadata": {},
   "source": [
    "Sol(14)--> We can use try clause when we have dought on our code that means if we did not know it's runs perfectly or gives an runtime error for some reason so the try clause always try to run our code but if code in try claus throgh an error then we move into a except claus where we can handle our error so our program didn't Crash."
   ]
  }
 ],
 "metadata": {
  "kernelspec": {
   "display_name": "Python 3 (ipykernel)",
   "language": "python",
   "name": "python3"
  },
  "language_info": {
   "codemirror_mode": {
    "name": "ipython",
    "version": 3
   },
   "file_extension": ".py",
   "mimetype": "text/x-python",
   "name": "python",
   "nbconvert_exporter": "python",
   "pygments_lexer": "ipython3",
   "version": "3.9.7"
  }
 },
 "nbformat": 4,
 "nbformat_minor": 5
}
