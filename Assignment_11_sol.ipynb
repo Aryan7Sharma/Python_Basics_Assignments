{
 "cells": [
  {
   "cell_type": "markdown",
   "id": "5cb54ea9",
   "metadata": {},
   "source": [
    "# Assignment11 Solutions"
   ]
  },
  {
   "cell_type": "markdown",
   "id": "514ad2f5",
   "metadata": {},
   "source": [
    "    1. Create an assert statement that throws an AssertionError if the variable spam is a negative integer.\n",
    "    2. Write an assert statement that triggers an AssertionError if the variables eggs and bacon contain strings that are the same as each other, even if their cases are different (that is, 'hello' and 'hello' are considered the same, and 'goodbye' and 'GOODbye' are also considered the same).\n",
    "    3. Create an assert statement that throws an AssertionError every time.\n",
    "    4. What are the two lines that must be present in your software in order to call logging.debug()?\n",
    "    5. What are the two lines that your program must have in order to have logging.debug() send a logging message to a file named programLog.txt?\n",
    "    6. What are the five levels of logging?\n",
    "    7. What line of code would you add to your software to disable all logging messages?\n",
    "    8.Why is using logging messages better than using print() to display the same message?\n",
    "    9. What are the differences between the Step Over, Step In, and Step Out buttons in the debugger?\n",
    "    10.After you click Continue, when will the debugger stop ?\n",
    "    11. What is the concept of a breakpoint?\n"
   ]
  },
  {
   "cell_type": "code",
   "execution_count": 10,
   "id": "98279f8a",
   "metadata": {},
   "outputs": [
    {
     "name": "stdout",
     "output_type": "stream",
     "text": [
      "1\n"
     ]
    },
    {
     "ename": "AssertionError",
     "evalue": "Negative numbers are not allowed",
     "output_type": "error",
     "traceback": [
      "\u001b[0;31m---------------------------------------------------------------------------\u001b[0m",
      "\u001b[0;31mAssertionError\u001b[0m                            Traceback (most recent call last)",
      "\u001b[0;32m/tmp/ipykernel_9360/1730308037.py\u001b[0m in \u001b[0;36m<module>\u001b[0;34m\u001b[0m\n\u001b[1;32m      5\u001b[0m     \u001b[0;32mreturn\u001b[0m \u001b[0mspam\u001b[0m\u001b[0;34m\u001b[0m\u001b[0;34m\u001b[0m\u001b[0m\n\u001b[1;32m      6\u001b[0m \u001b[0mprint\u001b[0m\u001b[0;34m(\u001b[0m\u001b[0mnumber\u001b[0m\u001b[0;34m(\u001b[0m\u001b[0;36m1\u001b[0m\u001b[0;34m)\u001b[0m\u001b[0;34m)\u001b[0m\u001b[0;34m\u001b[0m\u001b[0;34m\u001b[0m\u001b[0m\n\u001b[0;32m----> 7\u001b[0;31m \u001b[0mprint\u001b[0m\u001b[0;34m(\u001b[0m\u001b[0mnumber\u001b[0m\u001b[0;34m(\u001b[0m\u001b[0;34m-\u001b[0m\u001b[0;36m1\u001b[0m\u001b[0;34m)\u001b[0m\u001b[0;34m)\u001b[0m\u001b[0;34m\u001b[0m\u001b[0;34m\u001b[0m\u001b[0m\n\u001b[0m",
      "\u001b[0;32m/tmp/ipykernel_9360/1730308037.py\u001b[0m in \u001b[0;36mnumber\u001b[0;34m(spam)\u001b[0m\n\u001b[1;32m      2\u001b[0m \u001b[0;34m\u001b[0m\u001b[0m\n\u001b[1;32m      3\u001b[0m \u001b[0;32mdef\u001b[0m \u001b[0mnumber\u001b[0m\u001b[0;34m(\u001b[0m\u001b[0mspam\u001b[0m\u001b[0;34m)\u001b[0m\u001b[0;34m:\u001b[0m\u001b[0;34m\u001b[0m\u001b[0;34m\u001b[0m\u001b[0m\n\u001b[0;32m----> 4\u001b[0;31m     \u001b[0;32massert\u001b[0m \u001b[0mspam\u001b[0m\u001b[0;34m>=\u001b[0m\u001b[0;36m0\u001b[0m\u001b[0;34m,\u001b[0m \u001b[0;34m'Negative numbers are not allowed'\u001b[0m\u001b[0;34m\u001b[0m\u001b[0;34m\u001b[0m\u001b[0m\n\u001b[0m\u001b[1;32m      5\u001b[0m     \u001b[0;32mreturn\u001b[0m \u001b[0mspam\u001b[0m\u001b[0;34m\u001b[0m\u001b[0;34m\u001b[0m\u001b[0m\n\u001b[1;32m      6\u001b[0m \u001b[0mprint\u001b[0m\u001b[0;34m(\u001b[0m\u001b[0mnumber\u001b[0m\u001b[0;34m(\u001b[0m\u001b[0;36m1\u001b[0m\u001b[0;34m)\u001b[0m\u001b[0;34m)\u001b[0m\u001b[0;34m\u001b[0m\u001b[0;34m\u001b[0m\u001b[0m\n",
      "\u001b[0;31mAssertionError\u001b[0m: Negative numbers are not allowed"
     ]
    }
   ],
   "source": [
    "#sol(1)-->\n",
    "\n",
    "def number(spam):\n",
    "    assert spam>=0, 'Negative numbers are not allowed'\n",
    "    return spam\n",
    "print(number(1))\n",
    "print(number(-1))"
   ]
  },
  {
   "cell_type": "code",
   "execution_count": 16,
   "id": "dc41823b",
   "metadata": {},
   "outputs": [
    {
     "name": "stdout",
     "output_type": "stream",
     "text": [
      "('hello', 'hi')\n"
     ]
    },
    {
     "ename": "AssertionError",
     "evalue": "Same string are not allowed for eggs and bacon variable",
     "output_type": "error",
     "traceback": [
      "\u001b[0;31m---------------------------------------------------------------------------\u001b[0m",
      "\u001b[0;31mAssertionError\u001b[0m                            Traceback (most recent call last)",
      "\u001b[0;32m/tmp/ipykernel_9360/728957308.py\u001b[0m in \u001b[0;36m<module>\u001b[0;34m\u001b[0m\n\u001b[1;32m      8\u001b[0m \u001b[0;34m\u001b[0m\u001b[0m\n\u001b[1;32m      9\u001b[0m \u001b[0mprint\u001b[0m\u001b[0;34m(\u001b[0m\u001b[0mcheckstr\u001b[0m\u001b[0;34m(\u001b[0m\u001b[0;34m'hello'\u001b[0m\u001b[0;34m,\u001b[0m\u001b[0;34m'hi'\u001b[0m\u001b[0;34m)\u001b[0m\u001b[0;34m)\u001b[0m\u001b[0;34m\u001b[0m\u001b[0;34m\u001b[0m\u001b[0m\n\u001b[0;32m---> 10\u001b[0;31m \u001b[0mprint\u001b[0m\u001b[0;34m(\u001b[0m\u001b[0mcheckstr\u001b[0m\u001b[0;34m(\u001b[0m\u001b[0;34m'hello'\u001b[0m\u001b[0;34m,\u001b[0m\u001b[0;34m'HeLlO'\u001b[0m\u001b[0;34m)\u001b[0m\u001b[0;34m)\u001b[0m\u001b[0;34m\u001b[0m\u001b[0;34m\u001b[0m\u001b[0m\n\u001b[0m",
      "\u001b[0;32m/tmp/ipykernel_9360/728957308.py\u001b[0m in \u001b[0;36mcheckstr\u001b[0;34m(x, y)\u001b[0m\n\u001b[1;32m      4\u001b[0m     \u001b[0meggs\u001b[0m\u001b[0;34m=\u001b[0m\u001b[0mstr\u001b[0m\u001b[0;34m(\u001b[0m\u001b[0mx\u001b[0m\u001b[0;34m)\u001b[0m\u001b[0;34m\u001b[0m\u001b[0;34m\u001b[0m\u001b[0m\n\u001b[1;32m      5\u001b[0m     \u001b[0mbacon\u001b[0m\u001b[0;34m=\u001b[0m\u001b[0mstr\u001b[0m\u001b[0;34m(\u001b[0m\u001b[0my\u001b[0m\u001b[0;34m)\u001b[0m\u001b[0;34m\u001b[0m\u001b[0;34m\u001b[0m\u001b[0m\n\u001b[0;32m----> 6\u001b[0;31m     \u001b[0;32massert\u001b[0m \u001b[0meggs\u001b[0m\u001b[0;34m.\u001b[0m\u001b[0mlower\u001b[0m\u001b[0;34m(\u001b[0m\u001b[0;34m)\u001b[0m\u001b[0;34m!=\u001b[0m\u001b[0mbacon\u001b[0m\u001b[0;34m.\u001b[0m\u001b[0mlower\u001b[0m\u001b[0;34m(\u001b[0m\u001b[0;34m)\u001b[0m\u001b[0;34m,\u001b[0m \u001b[0;34m'Same string are not allowed for eggs and bacon variable'\u001b[0m\u001b[0;34m\u001b[0m\u001b[0;34m\u001b[0m\u001b[0m\n\u001b[0m\u001b[1;32m      7\u001b[0m     \u001b[0;32mreturn\u001b[0m \u001b[0meggs\u001b[0m\u001b[0;34m,\u001b[0m\u001b[0mbacon\u001b[0m\u001b[0;34m\u001b[0m\u001b[0;34m\u001b[0m\u001b[0m\n\u001b[1;32m      8\u001b[0m \u001b[0;34m\u001b[0m\u001b[0m\n",
      "\u001b[0;31mAssertionError\u001b[0m: Same string are not allowed for eggs and bacon variable"
     ]
    }
   ],
   "source": [
    "#sol(2)-->\n",
    "\n",
    "def checkstr(x,y):\n",
    "    eggs=str(x)\n",
    "    bacon=str(y)\n",
    "    assert eggs.lower()!=bacon.lower(), 'Same string are not allowed for eggs and bacon variable'\n",
    "    return eggs,bacon\n",
    "\n",
    "print(checkstr('hello','hi'))\n",
    "print(checkstr('hello','HeLlO'))"
   ]
  },
  {
   "cell_type": "code",
   "execution_count": 38,
   "id": "654c41ae",
   "metadata": {},
   "outputs": [
    {
     "ename": "AssertionError",
     "evalue": "throws an AssertionError every time",
     "output_type": "error",
     "traceback": [
      "\u001b[0;31m---------------------------------------------------------------------------\u001b[0m",
      "\u001b[0;31mAssertionError\u001b[0m                            Traceback (most recent call last)",
      "\u001b[0;32m/tmp/ipykernel_9360/1638714835.py\u001b[0m in \u001b[0;36m<module>\u001b[0;34m\u001b[0m\n\u001b[1;32m      2\u001b[0m \u001b[0;32mdef\u001b[0m \u001b[0ma\u001b[0m\u001b[0;34m(\u001b[0m\u001b[0mh\u001b[0m\u001b[0;34m)\u001b[0m\u001b[0;34m:\u001b[0m\u001b[0;34m\u001b[0m\u001b[0;34m\u001b[0m\u001b[0m\n\u001b[1;32m      3\u001b[0m     \u001b[0;32massert\u001b[0m \u001b[0;32mNone\u001b[0m\u001b[0;34m!=\u001b[0m\u001b[0;32mNone\u001b[0m \u001b[0;34m,\u001b[0m\u001b[0;34m'throws an AssertionError every time'\u001b[0m\u001b[0;34m\u001b[0m\u001b[0;34m\u001b[0m\u001b[0m\n\u001b[0;32m----> 4\u001b[0;31m \u001b[0mprint\u001b[0m\u001b[0;34m(\u001b[0m\u001b[0ma\u001b[0m\u001b[0;34m(\u001b[0m\u001b[0;36m1\u001b[0m\u001b[0;34m)\u001b[0m\u001b[0;34m)\u001b[0m\u001b[0;34m\u001b[0m\u001b[0;34m\u001b[0m\u001b[0m\n\u001b[0m",
      "\u001b[0;32m/tmp/ipykernel_9360/1638714835.py\u001b[0m in \u001b[0;36ma\u001b[0;34m(h)\u001b[0m\n\u001b[1;32m      1\u001b[0m \u001b[0;31m#sol(3)-->\u001b[0m\u001b[0;34m\u001b[0m\u001b[0;34m\u001b[0m\u001b[0m\n\u001b[1;32m      2\u001b[0m \u001b[0;32mdef\u001b[0m \u001b[0ma\u001b[0m\u001b[0;34m(\u001b[0m\u001b[0mh\u001b[0m\u001b[0;34m)\u001b[0m\u001b[0;34m:\u001b[0m\u001b[0;34m\u001b[0m\u001b[0;34m\u001b[0m\u001b[0m\n\u001b[0;32m----> 3\u001b[0;31m     \u001b[0;32massert\u001b[0m \u001b[0;32mNone\u001b[0m\u001b[0;34m!=\u001b[0m\u001b[0;32mNone\u001b[0m \u001b[0;34m,\u001b[0m\u001b[0;34m'throws an AssertionError every time'\u001b[0m\u001b[0;34m\u001b[0m\u001b[0;34m\u001b[0m\u001b[0m\n\u001b[0m\u001b[1;32m      4\u001b[0m \u001b[0mprint\u001b[0m\u001b[0;34m(\u001b[0m\u001b[0ma\u001b[0m\u001b[0;34m(\u001b[0m\u001b[0;36m1\u001b[0m\u001b[0;34m)\u001b[0m\u001b[0;34m)\u001b[0m\u001b[0;34m\u001b[0m\u001b[0;34m\u001b[0m\u001b[0m\n",
      "\u001b[0;31mAssertionError\u001b[0m: throws an AssertionError every time"
     ]
    }
   ],
   "source": [
    "#sol(3)-->\n",
    "def a(h):\n",
    "    assert None!=None ,'throws an AssertionError every time'\n",
    "print(a(1))"
   ]
  },
  {
   "cell_type": "code",
   "execution_count": 40,
   "id": "08c71fbf",
   "metadata": {},
   "outputs": [],
   "source": [
    "#sol(4)-->\n",
    "\n",
    "import logging as lg\n",
    "lg.basicConfig(level=lg.DEBUG, format=' %(asctime)s - %(levelname)s - %(message)s')"
   ]
  },
  {
   "cell_type": "code",
   "execution_count": 41,
   "id": "a8948ca3",
   "metadata": {},
   "outputs": [],
   "source": [
    "#sol(5)-->\n",
    "\n",
    "import logging as lg\n",
    "lg.basicConfig(filename='programLog.txt', level=lg.DEBUG, format=' %(asctime)s - %(levelname)s - %(message)s')"
   ]
  },
  {
   "cell_type": "markdown",
   "id": "37e4408f",
   "metadata": {},
   "source": [
    "    sol(6)--> DEBUG \n",
    "              INFO \n",
    "              WARNING \n",
    "              ERROR \n",
    "              CRITICAL"
   ]
  },
  {
   "cell_type": "markdown",
   "id": "2f8145b1",
   "metadata": {},
   "source": [
    "    sol(7)--> import logging as lg\n",
    "              lg.disable(lg.CRITICAL)"
   ]
  },
  {
   "cell_type": "markdown",
   "id": "88b9273e",
   "metadata": {},
   "source": [
    "    sol(8)--> Once we're done debugging, we'll end up spending a lot of time removing print() calls from our code for each log message."
   ]
  },
  {
   "cell_type": "markdown",
   "id": "d7bdf38b",
   "metadata": {},
   "source": [
    "    sol(9)--> STEP will cause the debugger to execute the next line of code and then pause again.\n",
    "    \n",
    "               OVER will execute the next line of code, similar to the STEP button. However, if the next line  \n",
    "               of code is a function call, the OVER button will \"step over\" the code in the function.\n",
    "               \n",
    "               OUT will cause the debugger to execute lines of code at full speed until it returns from the\n",
    "               current function."
   ]
  },
  {
   "cell_type": "markdown",
   "id": "a8244601",
   "metadata": {},
   "source": [
    "    sol(10)--> Until my  program execution will not completes normally."
   ]
  },
  {
   "cell_type": "markdown",
   "id": "6f99e625",
   "metadata": {},
   "source": [
    "    sol(11)--> A breakpoint is a specific line of code that forces the debugger to pause whenever the program\n",
    "    execution reaches that line."
   ]
  },
  {
   "cell_type": "code",
   "execution_count": null,
   "id": "bb2d75cc",
   "metadata": {},
   "outputs": [],
   "source": []
  }
 ],
 "metadata": {
  "kernelspec": {
   "display_name": "Python 3 (ipykernel)",
   "language": "python",
   "name": "python3"
  },
  "language_info": {
   "codemirror_mode": {
    "name": "ipython",
    "version": 3
   },
   "file_extension": ".py",
   "mimetype": "text/x-python",
   "name": "python",
   "nbconvert_exporter": "python",
   "pygments_lexer": "ipython3",
   "version": "3.9.7"
  }
 },
 "nbformat": 4,
 "nbformat_minor": 5
}
