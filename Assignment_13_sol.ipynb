{
 "cells": [
  {
   "cell_type": "markdown",
   "id": "98d6a16d",
   "metadata": {},
   "source": [
    "# Assignment13 Solutions "
   ]
  },
  {
   "cell_type": "markdown",
   "id": "f8ec155c",
   "metadata": {},
   "source": [
    "    1. What advantages do Excel spreadsheets have over CSV spreadsheets?\n",
    "    2.What do you pass to csv.reader() and csv.writer() to create reader and writer objects?\n",
    "    3. What modes do File objects for reader and writer objects need to be opened in?\n",
    "    4. What method takes a list argument and writes it to a CSV file?\n",
    "    5. What do the keyword arguments delimiter and line terminator do?\n",
    "    6. What function takes a string of JSON data and returns a Python data structure?\n",
    "    7. What function takes a Python data structure and returns a string of JSON data?\n"
   ]
  },
  {
   "cell_type": "markdown",
   "id": "562b5fe4",
   "metadata": {},
   "source": [
    "    sol(1)--> (1)-Files saved in excel cannot be opened or edited by text editors\n",
    "              (2)-Excel is a spreadsheet that saves files into its own proprietary format xls or xlsx\n",
    "              (3)-An Excel not only stores data but can also do operations on the data.\n",
    "              (4)-Excel spreadsheets is preferable for detailed standardized schema specification\n",
    "              (5)-Apart from text, data can also be stored in form of charts and graphs"
   ]
  },
  {
   "cell_type": "markdown",
   "id": "05351217",
   "metadata": {},
   "source": [
    "    sol(2)-> We pass a File object,obtained from a call to open()"
   ]
  },
  {
   "cell_type": "markdown",
   "id": "db46ee9e",
   "metadata": {},
   "source": [
    "    sol(3)--> File objects need to be opened in read-binary ('rb') for Reader objects and write-binary ('wb') for Writer objects."
   ]
  },
  {
   "cell_type": "markdown",
   "id": "d8ad50e2",
   "metadata": {},
   "source": [
    "    sol(4)--> writerow() method"
   ]
  },
  {
   "cell_type": "markdown",
   "id": "44bafe2f",
   "metadata": {},
   "source": [
    "    sol(5)--> The delimiter argument changes the string used to separate cells in a row, lineterminator argument changes the string used to separate rows."
   ]
  },
  {
   "cell_type": "markdown",
   "id": "32401815",
   "metadata": {},
   "source": [
    "    sol(6)--> json.loads()"
   ]
  },
  {
   "cell_type": "markdown",
   "id": "e4763afa",
   "metadata": {},
   "source": [
    "    sol(7)--> json.dumps()"
   ]
  }
 ],
 "metadata": {
  "kernelspec": {
   "display_name": "Python 3 (ipykernel)",
   "language": "python",
   "name": "python3"
  },
  "language_info": {
   "codemirror_mode": {
    "name": "ipython",
    "version": 3
   },
   "file_extension": ".py",
   "mimetype": "text/x-python",
   "name": "python",
   "nbconvert_exporter": "python",
   "pygments_lexer": "ipython3",
   "version": "3.9.7"
  }
 },
 "nbformat": 4,
 "nbformat_minor": 5
}
