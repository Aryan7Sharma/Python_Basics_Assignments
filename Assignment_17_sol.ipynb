{
 "cells": [
  {
   "cell_type": "markdown",
   "id": "a813642b",
   "metadata": {},
   "source": [
    "# Assignment_17_sol"
   ]
  },
  {
   "cell_type": "markdown",
   "id": "56679e16",
   "metadata": {},
   "source": [
    "    1. Assign the value 7 to the variable guess_me. Then, write the conditional tests (if, else, and elif) to print the string 'too low' if guess_me is less than 7, 'too high' if greater than 7, and 'just right' if equal to 7.\n",
    "    \n",
    " \n",
    "\n",
    "\n",
    "\n",
    "    2. Assign the value 7 to the variable guess_me and the value 1 to the variable start. Write a while loop that compares start with guess_me. Print too low if start is less than guess me. If start equals guess_me, print 'found it!' and exit the loop. If start is greater than guess_me, print 'oops' and exit the loop. Increment start at the end of the loop.\n",
    "    \n",
    " \n",
    "\n",
    "\n",
    "\n",
    "    3. Print the following values of the list [3, 2, 1, 0] using a for loop.\n",
    "\n",
    " \n",
    "\n",
    "\n",
    "\n",
    "    4. Use a list comprehension to make a list of the even numbers in range(10)\n",
    "\n",
    " \n",
    "\n",
    "\n",
    "\n",
    "    5. Use a dictionary comprehension to create the dictionary squares. Use range(10) to return the keys, and use the square of each key as its value.\n",
    "\n",
    " \n",
    "\n",
    "\n",
    "\n",
    "    6. Construct the set odd from the odd numbers in the range using a set comprehension (10).\n",
    "\n",
    " \n",
    "\n",
    "\n",
    "\n",
    "    7. Use a generator comprehension to return the string 'Got ' and a number for the numbers in range(10). Iterate through this by using a for loop.\n",
    "\n",
    " \n",
    "    \n",
    "    \n",
    "    \n",
    "    8. Define a function called good that returns the list ['Harry', 'Ron', 'Hermione'].\n",
    "\n",
    " \n",
    "\n",
    "\n",
    "\n",
    "    9. Define a generator function called get_odds that returns the odd numbers from range(10). Use a for loop to find and print the third value returned.\n",
    "\n",
    " \n",
    "\n",
    "\n",
    "\n",
    "    10. Define an exception called OopsException. Raise this exception to see what happens. Then write the code to catch this exception and print 'Caught an oops'.\n",
    "\n",
    " \n",
    "\n",
    "\n",
    "\n",
    "    11. Use zip() to make a dictionary called movies that pairs these lists: titles = ['Creature of Habit', 'Crewel Fate'] and plots = ['A nun turns into a monster', 'A haunted yarn shop'].\n",
    "\n",
    " "
   ]
  },
  {
   "cell_type": "code",
   "execution_count": 4,
   "id": "4629f419",
   "metadata": {},
   "outputs": [
    {
     "name": "stdout",
     "output_type": "stream",
     "text": [
      "'just right'\n"
     ]
    }
   ],
   "source": [
    "#1\n",
    "guess_me=7\n",
    "\n",
    "if guess_me<7:print(\"'too low'\")\n",
    "elif guess_me>7:print(\"'too high'\")\n",
    "else:print(\"'just right'\")"
   ]
  },
  {
   "cell_type": "code",
   "execution_count": 9,
   "id": "a0a394c6",
   "metadata": {},
   "outputs": [
    {
     "name": "stdout",
     "output_type": "stream",
     "text": [
      "too low\n",
      "too low\n",
      "too low\n",
      "too low\n",
      "too low\n",
      "too low\n",
      "'found it!'\n"
     ]
    }
   ],
   "source": [
    "#2\n",
    "guess_me,start=7,1\n",
    "while True:\n",
    "    if start<guess_me:print(\"too low\")\n",
    "    elif start>guess_me:\n",
    "        print(\"oops\")\n",
    "        break\n",
    "    else:\n",
    "        print(\"'found it!'\")\n",
    "        break\n",
    "    start+=1\n"
   ]
  },
  {
   "cell_type": "code",
   "execution_count": 10,
   "id": "3344c45c",
   "metadata": {},
   "outputs": [
    {
     "name": "stdout",
     "output_type": "stream",
     "text": [
      "3\n",
      "2\n",
      "1\n",
      "0\n"
     ]
    }
   ],
   "source": [
    "#3\n",
    "for i in [3, 2, 1, 0]:\n",
    "    print(i)"
   ]
  },
  {
   "cell_type": "code",
   "execution_count": 12,
   "id": "a533da92",
   "metadata": {},
   "outputs": [
    {
     "data": {
      "text/plain": [
       "[0, 2, 4, 6, 8, 10]"
      ]
     },
     "execution_count": 12,
     "metadata": {},
     "output_type": "execute_result"
    }
   ],
   "source": [
    "#4\n",
    "even=[i for i in range(11)if i%2==0]\n",
    "even"
   ]
  },
  {
   "cell_type": "code",
   "execution_count": 15,
   "id": "ed112de2",
   "metadata": {},
   "outputs": [
    {
     "data": {
      "text/plain": [
       "{0: 0, 1: 1, 2: 4, 3: 9, 4: 16, 5: 25, 6: 36, 7: 49, 8: 64, 9: 81}"
      ]
     },
     "execution_count": 15,
     "metadata": {},
     "output_type": "execute_result"
    }
   ],
   "source": [
    "#5\n",
    "dict_squares={i:i*i for i in range(10)}\n",
    "dict_squares"
   ]
  },
  {
   "cell_type": "code",
   "execution_count": 19,
   "id": "bf104ca3",
   "metadata": {},
   "outputs": [
    {
     "name": "stdout",
     "output_type": "stream",
     "text": [
      "{1, 3, 5, 7, 9}\n",
      "<class 'set'>\n"
     ]
    }
   ],
   "source": [
    "#6\n",
    "odd={i for i in range(10)if i%2!=0}\n",
    "print(odd)\n",
    "print(type(odd))"
   ]
  },
  {
   "cell_type": "code",
   "execution_count": 26,
   "id": "13705f3f",
   "metadata": {},
   "outputs": [
    {
     "name": "stdout",
     "output_type": "stream",
     "text": [
      "Got  0\n",
      "Got  1\n",
      "Got  2\n",
      "Got  3\n",
      "Got  4\n",
      "Got  5\n",
      "Got  6\n",
      "Got  7\n",
      "Got  8\n",
      "Got  9\n"
     ]
    }
   ],
   "source": [
    "#7\n",
    "gener_comp=(\"Got  \"+str(i) for i in range(10))\n",
    "for i in gener_comp:\n",
    "    print(i)"
   ]
  },
  {
   "cell_type": "code",
   "execution_count": 29,
   "id": "5adfa888",
   "metadata": {},
   "outputs": [
    {
     "data": {
      "text/plain": [
       "['Harry', 'Ron', 'Hermione']"
      ]
     },
     "execution_count": 29,
     "metadata": {},
     "output_type": "execute_result"
    }
   ],
   "source": [
    "#8\n",
    "def good():\n",
    "    return ['Harry', 'Ron', 'Hermione']\n",
    "\n",
    "good()"
   ]
  },
  {
   "cell_type": "code",
   "execution_count": 35,
   "id": "0a848553",
   "metadata": {},
   "outputs": [
    {
     "name": "stdout",
     "output_type": "stream",
     "text": [
      "Third Value -->  5\n"
     ]
    }
   ],
   "source": [
    "#9\n",
    "def get_odds():\n",
    "    for i in range(10):\n",
    "        if i%2!=0:yield i\n",
    "c=0\n",
    "for i in get_odds():\n",
    "    c+=1\n",
    "    if c==3:\n",
    "        print(\"Third Value --> \",i)\n",
    "        break\n",
    "        "
   ]
  },
  {
   "cell_type": "code",
   "execution_count": 2,
   "id": "c9185219",
   "metadata": {},
   "outputs": [
    {
     "name": "stdout",
     "output_type": "stream",
     "text": [
      "Caught an oops\n"
     ]
    }
   ],
   "source": [
    "#10\n",
    "class OopsException(Exception):\n",
    "    pass\n",
    "\n",
    "def exception(a):\n",
    "    if a > 0:\n",
    "        raise OopsException(a)\n",
    "\n",
    "try:\n",
    "    exception(1)\n",
    "except OopsException as error:\n",
    "    print('Caught an oops')\n"
   ]
  },
  {
   "cell_type": "code",
   "execution_count": 4,
   "id": "7333e666",
   "metadata": {},
   "outputs": [
    {
     "data": {
      "text/plain": [
       "{'Creature of Habit': 'A nun turns into a monster',\n",
       " 'Crewel Fate': 'A haunted yarn shop'}"
      ]
     },
     "execution_count": 4,
     "metadata": {},
     "output_type": "execute_result"
    }
   ],
   "source": [
    "#11\n",
    "titles = ['Creature of Habit', 'Crewel Fate']\n",
    "plots = ['A nun turns into a monster', 'A haunted yarn shop']\n",
    "movies={k:v for k,v in zip(titles,plots)}\n",
    "movies"
   ]
  },
  {
   "cell_type": "code",
   "execution_count": 6,
   "id": "60833e1e",
   "metadata": {},
   "outputs": [
    {
     "data": {
      "text/plain": [
       "{'Creature of Habit': 'A nun turns into a monster',\n",
       " 'Crewel Fate': 'A haunted yarn shop'}"
      ]
     },
     "execution_count": 6,
     "metadata": {},
     "output_type": "execute_result"
    }
   ],
   "source": [
    "movies1=dict(zip(titles,plots))\n",
    "movies1\n"
   ]
  },
  {
   "cell_type": "code",
   "execution_count": null,
   "id": "7c814077",
   "metadata": {},
   "outputs": [],
   "source": []
  }
 ],
 "metadata": {
  "kernelspec": {
   "display_name": "Python 3 (ipykernel)",
   "language": "python",
   "name": "python3"
  },
  "language_info": {
   "codemirror_mode": {
    "name": "ipython",
    "version": 3
   },
   "file_extension": ".py",
   "mimetype": "text/x-python",
   "name": "python",
   "nbconvert_exporter": "python",
   "pygments_lexer": "ipython3",
   "version": "3.9.7"
  }
 },
 "nbformat": 4,
 "nbformat_minor": 5
}
