{
 "cells": [
  {
   "cell_type": "markdown",
   "id": "132f09d6",
   "metadata": {},
   "source": [
    "# Assignment4 with Solutions  "
   ]
  },
  {
   "cell_type": "markdown",
   "id": "ae422ad6",
   "metadata": {},
   "source": [
    "1. What exactly is []?\n",
    "2. In a list of values stored in a variable called spam, how would you assign the value 'hello' as the third value? (Assume [2, 4, 6, 8, 10] are in spam.)\n",
    "Let's pretend the spam includes the list ['a', 'b', 'c', 'd'] for the next three queries.\n",
    "3. What is the value of spam[int(int('3' * 2) / 11)]?\n",
    "4. What is the value of spam[-1]?\n",
    "5. What is the value of spam[:2]?\n",
    "Let's pretend bacon has the list [3.14, 'cat,' 11, 'cat,' True] for the next three questions.\n",
    "6. What is the value of bacon.index('cat')?\n",
    "7. How does bacon.append(99) change the look of the list value in bacon?\n",
    "8. How does bacon.remove('cat') change the look of the list in bacon?\n",
    "9. What are the list concatenation and list replication operators?\n",
    "10. What is difference between the list methods append() and insert()?\n",
    "11. What are the two methods for removing items from a list?\n",
    "12. Describe how list values and string values are identical.\n",
    "13. What's the difference between tuples and lists?\n",
    "14. How do you type a tuple value that only contains the integer 42?\n",
    "15. How do you get a list value's tuple form? How do you get a tuple value's list form?\n",
    "16. Variables that \"contain\" list values are not necessarily lists themselves. Instead, what do they contain?\n",
    "17. How do you distinguish between copy.copy() and copy.deepcopy()?"
   ]
  },
  {
   "cell_type": "markdown",
   "id": "c59d56fc",
   "metadata": {},
   "source": [
    "Sol(1)--> [] is an empty list\n"
   ]
  },
  {
   "cell_type": "markdown",
   "id": "3cbf3c8a",
   "metadata": {},
   "source": [
    "Sol(2)--> we can modify the the element in the list with the help of the indexing. (spam[2]='hello')\n"
   ]
  },
  {
   "cell_type": "markdown",
   "id": "ff9449c9",
   "metadata": {},
   "source": [
    "Sol(3)--> (int(int('3' * 2) / 11)) return 3 so the spam[int(int('3' * 2) / 11)] return 'd'\n"
   ]
  },
  {
   "cell_type": "markdown",
   "id": "9570dc86",
   "metadata": {},
   "source": [
    "Sol(4)--> spam[-1] return 'd'\n"
   ]
  },
  {
   "cell_type": "markdown",
   "id": "e408c952",
   "metadata": {},
   "source": [
    "Sol(5)--> spam[:2] return ['a', 'b']\n"
   ]
  },
  {
   "cell_type": "markdown",
   "id": "7e01e0a0",
   "metadata": {},
   "source": [
    "Sol(6)--> bacon.index('cat') return 1\n"
   ]
  },
  {
   "cell_type": "markdown",
   "id": "051e565e",
   "metadata": {},
   "source": [
    "Sol(7)--> After bacon.append(99) the list will look like this -- [3.14, 'cat', 11, 'cat,', True, 99]\n"
   ]
  },
  {
   "cell_type": "markdown",
   "id": "b82719a0",
   "metadata": {},
   "source": [
    "Sol(8)--> Because when we run bacon.remove('cat') it will remove the value 'cat' from the list that's why the list looking different from the previous list \n",
    "Before bacon.remove('cat') the list will be -- [3.14, 'cat', 11, 'cat,', True]\n",
    "After bacon.remove('cat') the list will be -- [3.14, 11, 'cat,', True]"
   ]
  },
  {
   "cell_type": "markdown",
   "id": "66d52984",
   "metadata": {},
   "source": [
    "Sol(9)--> The operator for list concatenation is +,and the operator for replication is *\n"
   ]
  },
  {
   "cell_type": "markdown",
   "id": "83e39748",
   "metadata": {},
   "source": [
    "Sol(10)-->With the use of the append() we can add the element only at the end of the list, on the other hand the insert function allows us to add a specific element at a specified index of the list.\n"
   ]
  },
  {
   "cell_type": "markdown",
   "id": "7eb817c0",
   "metadata": {},
   "source": [
    "Sol(11)--> (i)  pop()\n",
    "           (ii) remove()\n"
   ]
  },
  {
   "cell_type": "markdown",
   "id": "b062288d",
   "metadata": {},
   "source": [
    "Sol(12)--> The similarity between Lists and Strings in Python is that both are sequences in other word the string is a array or list of character and both are iterable.\n"
   ]
  },
  {
   "cell_type": "markdown",
   "id": "fc158c40",
   "metadata": {},
   "source": [
    "Sol(13)--> There is mainly one difference between lists and tuples that tuples are immutable and list are mutable that means we can not modify or change the elements of tuples but in list we can.\n"
   ]
  },
  {
   "cell_type": "markdown",
   "id": "e2f82312",
   "metadata": {},
   "source": [
    "Sol(14)--> t=(42,)\n"
   ]
  },
  {
   "cell_type": "markdown",
   "id": "6b25b2d5",
   "metadata": {},
   "source": [
    "Sol(15)-->we can easily get the list value's into a tuple form with the use of the tuple() function.\n",
    "          sample_list=[]\n",
    "          tup = tuple(sample_list)\n",
    "          \n",
    "          we can easily get the tuples value's into a list form with the use of the list() function.\n",
    "          sample_tuple=()\n",
    "          li = list(sample_tuple)\n"
   ]
  },
  {
   "cell_type": "markdown",
   "id": "9853bafd",
   "metadata": {},
   "source": [
    "Sol(16)--> Variables will contain references to list values rather than list values themselves.\n"
   ]
  },
  {
   "cell_type": "markdown",
   "id": "2bc967aa",
   "metadata": {},
   "source": [
    "Sol(17)--> copy() create reference to original object. If you change copied object - you change the original object. . deepcopy() creates new object and does real copying of original object to new one. Changing new deepcopied object doesn't affect original object.\n"
   ]
  }
 ],
 "metadata": {
  "kernelspec": {
   "display_name": "Python 3 (ipykernel)",
   "language": "python",
   "name": "python3"
  },
  "language_info": {
   "codemirror_mode": {
    "name": "ipython",
    "version": 3
   },
   "file_extension": ".py",
   "mimetype": "text/x-python",
   "name": "python",
   "nbconvert_exporter": "python",
   "pygments_lexer": "ipython3",
   "version": "3.9.7"
  }
 },
 "nbformat": 4,
 "nbformat_minor": 5
}
